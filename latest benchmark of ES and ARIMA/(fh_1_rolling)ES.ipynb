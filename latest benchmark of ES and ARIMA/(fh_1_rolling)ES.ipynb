{
 "cells": [
  {
   "cell_type": "code",
   "execution_count": 1,
   "id": "82eda347-20da-46f8-9649-507e4923a6ba",
   "metadata": {
    "tags": []
   },
   "outputs": [],
   "source": [
    "import pandas as pd\n",
    "import numpy as np\n",
    "from statsmodels.tsa.holtwinters import ExponentialSmoothing, SimpleExpSmoothing\n",
    "from tqdm import tqdm"
   ]
  },
  {
   "cell_type": "code",
   "execution_count": 16,
   "id": "9700b24a-4179-4460-a0bc-970791485947",
   "metadata": {
    "tags": []
   },
   "outputs": [],
   "source": [
    "#x_train = pd.read_pickle('x_train.pkl')\n",
    "x_test = pd.read_pickle(\"x_test.pkl\")\n",
    "y_train = pd.read_pickle('y_train.pkl')\n",
    "y_test = pd.read_pickle(\"y_test.pkl\")"
   ]
  },
  {
   "cell_type": "code",
   "execution_count": 3,
   "id": "2c6cb8e7-565c-456b-a105-d22e88ca28be",
   "metadata": {
    "tags": []
   },
   "outputs": [
    {
     "data": {
      "text/html": [
       "<div>\n",
       "<style scoped>\n",
       "    .dataframe tbody tr th:only-of-type {\n",
       "        vertical-align: middle;\n",
       "    }\n",
       "\n",
       "    .dataframe tbody tr th {\n",
       "        vertical-align: top;\n",
       "    }\n",
       "\n",
       "    .dataframe thead th {\n",
       "        text-align: right;\n",
       "    }\n",
       "</style>\n",
       "<table border=\"1\" class=\"dataframe\">\n",
       "  <thead>\n",
       "    <tr style=\"text-align: right;\">\n",
       "      <th></th>\n",
       "      <th>sales</th>\n",
       "      <th>x_1DaysAgo</th>\n",
       "      <th>x_2DaysAgo</th>\n",
       "      <th>x_3DaysAgo</th>\n",
       "      <th>x_4DaysAgo</th>\n",
       "      <th>x_5DaysAgo</th>\n",
       "      <th>x_6DaysAgo</th>\n",
       "      <th>x_7DaysAgo</th>\n",
       "      <th>x_8DaysAgo</th>\n",
       "      <th>x_9DaysAgo</th>\n",
       "      <th>...</th>\n",
       "      <th>x_51DaysAgo</th>\n",
       "      <th>x_52DaysAgo</th>\n",
       "      <th>x_53DaysAgo</th>\n",
       "      <th>x_54DaysAgo</th>\n",
       "      <th>x_55DaysAgo</th>\n",
       "      <th>x_56DaysAgo</th>\n",
       "      <th>x_57DaysAgo</th>\n",
       "      <th>x_58DaysAgo</th>\n",
       "      <th>x_59DaysAgo</th>\n",
       "      <th>x_60DaysAgo</th>\n",
       "    </tr>\n",
       "  </thead>\n",
       "  <tbody>\n",
       "    <tr>\n",
       "      <th>1912</th>\n",
       "      <td>6</td>\n",
       "      <td>16.0</td>\n",
       "      <td>2.0</td>\n",
       "      <td>6.0</td>\n",
       "      <td>3.0</td>\n",
       "      <td>5.0</td>\n",
       "      <td>7.0</td>\n",
       "      <td>30.0</td>\n",
       "      <td>4.0</td>\n",
       "      <td>4.0</td>\n",
       "      <td>...</td>\n",
       "      <td>3.0</td>\n",
       "      <td>8.0</td>\n",
       "      <td>5.0</td>\n",
       "      <td>6.0</td>\n",
       "      <td>3.0</td>\n",
       "      <td>6.0</td>\n",
       "      <td>5.0</td>\n",
       "      <td>3.0</td>\n",
       "      <td>1.0</td>\n",
       "      <td>1.0</td>\n",
       "    </tr>\n",
       "    <tr>\n",
       "      <th>1913</th>\n",
       "      <td>4</td>\n",
       "      <td>6.0</td>\n",
       "      <td>16.0</td>\n",
       "      <td>2.0</td>\n",
       "      <td>6.0</td>\n",
       "      <td>3.0</td>\n",
       "      <td>5.0</td>\n",
       "      <td>7.0</td>\n",
       "      <td>30.0</td>\n",
       "      <td>4.0</td>\n",
       "      <td>...</td>\n",
       "      <td>8.0</td>\n",
       "      <td>3.0</td>\n",
       "      <td>8.0</td>\n",
       "      <td>5.0</td>\n",
       "      <td>6.0</td>\n",
       "      <td>3.0</td>\n",
       "      <td>6.0</td>\n",
       "      <td>5.0</td>\n",
       "      <td>3.0</td>\n",
       "      <td>1.0</td>\n",
       "    </tr>\n",
       "    <tr>\n",
       "      <th>1914</th>\n",
       "      <td>5</td>\n",
       "      <td>4.0</td>\n",
       "      <td>6.0</td>\n",
       "      <td>16.0</td>\n",
       "      <td>2.0</td>\n",
       "      <td>6.0</td>\n",
       "      <td>3.0</td>\n",
       "      <td>5.0</td>\n",
       "      <td>7.0</td>\n",
       "      <td>30.0</td>\n",
       "      <td>...</td>\n",
       "      <td>6.0</td>\n",
       "      <td>8.0</td>\n",
       "      <td>3.0</td>\n",
       "      <td>8.0</td>\n",
       "      <td>5.0</td>\n",
       "      <td>6.0</td>\n",
       "      <td>3.0</td>\n",
       "      <td>6.0</td>\n",
       "      <td>5.0</td>\n",
       "      <td>3.0</td>\n",
       "    </tr>\n",
       "    <tr>\n",
       "      <th>1915</th>\n",
       "      <td>7</td>\n",
       "      <td>5.0</td>\n",
       "      <td>4.0</td>\n",
       "      <td>6.0</td>\n",
       "      <td>16.0</td>\n",
       "      <td>2.0</td>\n",
       "      <td>6.0</td>\n",
       "      <td>3.0</td>\n",
       "      <td>5.0</td>\n",
       "      <td>7.0</td>\n",
       "      <td>...</td>\n",
       "      <td>9.0</td>\n",
       "      <td>6.0</td>\n",
       "      <td>8.0</td>\n",
       "      <td>3.0</td>\n",
       "      <td>8.0</td>\n",
       "      <td>5.0</td>\n",
       "      <td>6.0</td>\n",
       "      <td>3.0</td>\n",
       "      <td>6.0</td>\n",
       "      <td>5.0</td>\n",
       "    </tr>\n",
       "    <tr>\n",
       "      <th>1916</th>\n",
       "      <td>1</td>\n",
       "      <td>7.0</td>\n",
       "      <td>5.0</td>\n",
       "      <td>4.0</td>\n",
       "      <td>6.0</td>\n",
       "      <td>16.0</td>\n",
       "      <td>2.0</td>\n",
       "      <td>6.0</td>\n",
       "      <td>3.0</td>\n",
       "      <td>5.0</td>\n",
       "      <td>...</td>\n",
       "      <td>3.0</td>\n",
       "      <td>9.0</td>\n",
       "      <td>6.0</td>\n",
       "      <td>8.0</td>\n",
       "      <td>3.0</td>\n",
       "      <td>8.0</td>\n",
       "      <td>5.0</td>\n",
       "      <td>6.0</td>\n",
       "      <td>3.0</td>\n",
       "      <td>6.0</td>\n",
       "    </tr>\n",
       "    <tr>\n",
       "      <th>...</th>\n",
       "      <td>...</td>\n",
       "      <td>...</td>\n",
       "      <td>...</td>\n",
       "      <td>...</td>\n",
       "      <td>...</td>\n",
       "      <td>...</td>\n",
       "      <td>...</td>\n",
       "      <td>...</td>\n",
       "      <td>...</td>\n",
       "      <td>...</td>\n",
       "      <td>...</td>\n",
       "      <td>...</td>\n",
       "      <td>...</td>\n",
       "      <td>...</td>\n",
       "      <td>...</td>\n",
       "      <td>...</td>\n",
       "      <td>...</td>\n",
       "      <td>...</td>\n",
       "      <td>...</td>\n",
       "      <td>...</td>\n",
       "      <td>...</td>\n",
       "    </tr>\n",
       "    <tr>\n",
       "      <th>19404</th>\n",
       "      <td>4</td>\n",
       "      <td>5.0</td>\n",
       "      <td>0.0</td>\n",
       "      <td>2.0</td>\n",
       "      <td>1.0</td>\n",
       "      <td>0.0</td>\n",
       "      <td>0.0</td>\n",
       "      <td>0.0</td>\n",
       "      <td>1.0</td>\n",
       "      <td>1.0</td>\n",
       "      <td>...</td>\n",
       "      <td>5.0</td>\n",
       "      <td>0.0</td>\n",
       "      <td>2.0</td>\n",
       "      <td>3.0</td>\n",
       "      <td>5.0</td>\n",
       "      <td>0.0</td>\n",
       "      <td>2.0</td>\n",
       "      <td>4.0</td>\n",
       "      <td>1.0</td>\n",
       "      <td>0.0</td>\n",
       "    </tr>\n",
       "    <tr>\n",
       "      <th>19405</th>\n",
       "      <td>0</td>\n",
       "      <td>4.0</td>\n",
       "      <td>5.0</td>\n",
       "      <td>0.0</td>\n",
       "      <td>2.0</td>\n",
       "      <td>1.0</td>\n",
       "      <td>0.0</td>\n",
       "      <td>0.0</td>\n",
       "      <td>0.0</td>\n",
       "      <td>1.0</td>\n",
       "      <td>...</td>\n",
       "      <td>7.0</td>\n",
       "      <td>5.0</td>\n",
       "      <td>0.0</td>\n",
       "      <td>2.0</td>\n",
       "      <td>3.0</td>\n",
       "      <td>5.0</td>\n",
       "      <td>0.0</td>\n",
       "      <td>2.0</td>\n",
       "      <td>4.0</td>\n",
       "      <td>1.0</td>\n",
       "    </tr>\n",
       "    <tr>\n",
       "      <th>19406</th>\n",
       "      <td>2</td>\n",
       "      <td>0.0</td>\n",
       "      <td>4.0</td>\n",
       "      <td>5.0</td>\n",
       "      <td>0.0</td>\n",
       "      <td>2.0</td>\n",
       "      <td>1.0</td>\n",
       "      <td>0.0</td>\n",
       "      <td>0.0</td>\n",
       "      <td>0.0</td>\n",
       "      <td>...</td>\n",
       "      <td>3.0</td>\n",
       "      <td>7.0</td>\n",
       "      <td>5.0</td>\n",
       "      <td>0.0</td>\n",
       "      <td>2.0</td>\n",
       "      <td>3.0</td>\n",
       "      <td>5.0</td>\n",
       "      <td>0.0</td>\n",
       "      <td>2.0</td>\n",
       "      <td>4.0</td>\n",
       "    </tr>\n",
       "    <tr>\n",
       "      <th>19407</th>\n",
       "      <td>2</td>\n",
       "      <td>2.0</td>\n",
       "      <td>0.0</td>\n",
       "      <td>4.0</td>\n",
       "      <td>5.0</td>\n",
       "      <td>0.0</td>\n",
       "      <td>2.0</td>\n",
       "      <td>1.0</td>\n",
       "      <td>0.0</td>\n",
       "      <td>0.0</td>\n",
       "      <td>...</td>\n",
       "      <td>1.0</td>\n",
       "      <td>3.0</td>\n",
       "      <td>7.0</td>\n",
       "      <td>5.0</td>\n",
       "      <td>0.0</td>\n",
       "      <td>2.0</td>\n",
       "      <td>3.0</td>\n",
       "      <td>5.0</td>\n",
       "      <td>0.0</td>\n",
       "      <td>2.0</td>\n",
       "    </tr>\n",
       "    <tr>\n",
       "      <th>19408</th>\n",
       "      <td>5</td>\n",
       "      <td>2.0</td>\n",
       "      <td>2.0</td>\n",
       "      <td>0.0</td>\n",
       "      <td>4.0</td>\n",
       "      <td>5.0</td>\n",
       "      <td>0.0</td>\n",
       "      <td>2.0</td>\n",
       "      <td>1.0</td>\n",
       "      <td>0.0</td>\n",
       "      <td>...</td>\n",
       "      <td>4.0</td>\n",
       "      <td>1.0</td>\n",
       "      <td>3.0</td>\n",
       "      <td>7.0</td>\n",
       "      <td>5.0</td>\n",
       "      <td>0.0</td>\n",
       "      <td>2.0</td>\n",
       "      <td>3.0</td>\n",
       "      <td>5.0</td>\n",
       "      <td>0.0</td>\n",
       "    </tr>\n",
       "  </tbody>\n",
       "</table>\n",
       "<p>563304 rows × 61 columns</p>\n",
       "</div>"
      ],
      "text/plain": [
       "       sales  x_1DaysAgo  x_2DaysAgo  x_3DaysAgo  x_4DaysAgo  x_5DaysAgo  \\\n",
       "1912       6        16.0         2.0         6.0         3.0         5.0   \n",
       "1913       4         6.0        16.0         2.0         6.0         3.0   \n",
       "1914       5         4.0         6.0        16.0         2.0         6.0   \n",
       "1915       7         5.0         4.0         6.0        16.0         2.0   \n",
       "1916       1         7.0         5.0         4.0         6.0        16.0   \n",
       "...      ...         ...         ...         ...         ...         ...   \n",
       "19404      4         5.0         0.0         2.0         1.0         0.0   \n",
       "19405      0         4.0         5.0         0.0         2.0         1.0   \n",
       "19406      2         0.0         4.0         5.0         0.0         2.0   \n",
       "19407      2         2.0         0.0         4.0         5.0         0.0   \n",
       "19408      5         2.0         2.0         0.0         4.0         5.0   \n",
       "\n",
       "       x_6DaysAgo  x_7DaysAgo  x_8DaysAgo  x_9DaysAgo  ...  x_51DaysAgo  \\\n",
       "1912          7.0        30.0         4.0         4.0  ...          3.0   \n",
       "1913          5.0         7.0        30.0         4.0  ...          8.0   \n",
       "1914          3.0         5.0         7.0        30.0  ...          6.0   \n",
       "1915          6.0         3.0         5.0         7.0  ...          9.0   \n",
       "1916          2.0         6.0         3.0         5.0  ...          3.0   \n",
       "...           ...         ...         ...         ...  ...          ...   \n",
       "19404         0.0         0.0         1.0         1.0  ...          5.0   \n",
       "19405         0.0         0.0         0.0         1.0  ...          7.0   \n",
       "19406         1.0         0.0         0.0         0.0  ...          3.0   \n",
       "19407         2.0         1.0         0.0         0.0  ...          1.0   \n",
       "19408         0.0         2.0         1.0         0.0  ...          4.0   \n",
       "\n",
       "       x_52DaysAgo  x_53DaysAgo  x_54DaysAgo  x_55DaysAgo  x_56DaysAgo  \\\n",
       "1912           8.0          5.0          6.0          3.0          6.0   \n",
       "1913           3.0          8.0          5.0          6.0          3.0   \n",
       "1914           8.0          3.0          8.0          5.0          6.0   \n",
       "1915           6.0          8.0          3.0          8.0          5.0   \n",
       "1916           9.0          6.0          8.0          3.0          8.0   \n",
       "...            ...          ...          ...          ...          ...   \n",
       "19404          0.0          2.0          3.0          5.0          0.0   \n",
       "19405          5.0          0.0          2.0          3.0          5.0   \n",
       "19406          7.0          5.0          0.0          2.0          3.0   \n",
       "19407          3.0          7.0          5.0          0.0          2.0   \n",
       "19408          1.0          3.0          7.0          5.0          0.0   \n",
       "\n",
       "       x_57DaysAgo  x_58DaysAgo  x_59DaysAgo  x_60DaysAgo  \n",
       "1912           5.0          3.0          1.0          1.0  \n",
       "1913           6.0          5.0          3.0          1.0  \n",
       "1914           3.0          6.0          5.0          3.0  \n",
       "1915           6.0          3.0          6.0          5.0  \n",
       "1916           5.0          6.0          3.0          6.0  \n",
       "...            ...          ...          ...          ...  \n",
       "19404          2.0          4.0          1.0          0.0  \n",
       "19405          0.0          2.0          4.0          1.0  \n",
       "19406          5.0          0.0          2.0          4.0  \n",
       "19407          3.0          5.0          0.0          2.0  \n",
       "19408          2.0          3.0          5.0          0.0  \n",
       "\n",
       "[563304 rows x 61 columns]"
      ]
     },
     "execution_count": 3,
     "metadata": {},
     "output_type": "execute_result"
    }
   ],
   "source": [
    "x_test = x_test.iloc[:,12:]\n",
    "x_test"
   ]
  },
  {
   "cell_type": "code",
   "execution_count": 4,
   "id": "2c8a1efc-4553-46d4-b1f4-92716b484a09",
   "metadata": {
    "tags": []
   },
   "outputs": [
    {
     "data": {
      "text/plain": [
       "(563304, 61)"
      ]
     },
     "execution_count": 4,
     "metadata": {},
     "output_type": "execute_result"
    }
   ],
   "source": [
    "np.shape(np.array(x_test))"
   ]
  },
  {
   "cell_type": "code",
   "execution_count": 5,
   "id": "c84f03e8-8633-4490-91e7-8d4755c278e1",
   "metadata": {
    "tags": []
   },
   "outputs": [],
   "source": [
    "forecast_horizon = 1\n",
    "es_base = []"
   ]
  },
  {
   "cell_type": "code",
   "execution_count": 6,
   "id": "9f279752-a17a-4f9c-8148-0089e1803a84",
   "metadata": {
    "tags": []
   },
   "outputs": [],
   "source": [
    "# train the ES model:\n",
    "import warnings\n",
    "warnings.filterwarnings(\"ignore\", category=Warning)"
   ]
  },
  {
   "cell_type": "code",
   "execution_count": 7,
   "id": "3c90a79b-1079-48f1-9741-cb3b1685ee68",
   "metadata": {
    "scrolled": true,
    "tags": []
   },
   "outputs": [
    {
     "name": "stderr",
     "output_type": "stream",
     "text": [
      "100%|█████████████████████████████████████████████████████████████████████████████████████████████████████████████████████████████████████████████████████████████████████████████████████| 563304/563304 [34:57<00:00, 268.61it/s]\n"
     ]
    }
   ],
   "source": [
    "\n",
    "for i in tqdm(range(len(x_test))):\n",
    "    ES = SimpleExpSmoothing(x_test.iloc[i,:])\n",
    "    result = ES.fit()\n",
    "    forc = result.forecast(steps=forecast_horizon)\n",
    "    es_base.append(forc)\n",
    "    #tru = y_test[i]\n",
    "    #es_mase.append(forecast_mase(tru,forc,1))"
   ]
  },
  {
   "cell_type": "code",
   "execution_count": 8,
   "id": "7e72a22c-92ad-407c-b8d8-9619e98d357c",
   "metadata": {
    "tags": []
   },
   "outputs": [
    {
     "data": {
      "text/plain": [
       "(563304, 1)"
      ]
     },
     "execution_count": 8,
     "metadata": {},
     "output_type": "execute_result"
    }
   ],
   "source": [
    "np.shape(es_base)"
   ]
  },
  {
   "cell_type": "code",
   "execution_count": 10,
   "id": "f47a9545-1b9f-4f8d-8fc2-3dec05dfa0bc",
   "metadata": {
    "scrolled": true,
    "tags": []
   },
   "outputs": [],
   "source": [
    "es_b = np.array(es_base).reshape(1437,392)\n",
    "tru = np.array(y_test).reshape(1437,392)"
   ]
  },
  {
   "cell_type": "code",
   "execution_count": 11,
   "id": "70f3715f-a80f-4038-84ae-7ce200db9807",
   "metadata": {
    "tags": []
   },
   "outputs": [
    {
     "data": {
      "text/plain": [
       "array([[ 4.,  5.,  7., ...,  0.,  0.,  0.],\n",
       "       [ 9.,  4.,  3., ...,  2.,  1.,  0.],\n",
       "       [ 7., 13.,  9., ...,  0.,  0.,  1.],\n",
       "       ...,\n",
       "       [11.,  9.,  4., ...,  1.,  0.,  2.],\n",
       "       [13., 13., 16., ...,  1.,  1.,  0.],\n",
       "       [42., 26., 13., ...,  2.,  5.,  1.]])"
      ]
     },
     "execution_count": 11,
     "metadata": {},
     "output_type": "execute_result"
    }
   ],
   "source": [
    "tru"
   ]
  },
  {
   "cell_type": "code",
   "execution_count": 12,
   "id": "81d11528-68ae-4c49-8d17-35163d6e9b2e",
   "metadata": {
    "tags": []
   },
   "outputs": [],
   "source": [
    "def forecast_mase(truth_1,forecast_1, epsilon):\n",
    "    from sklearn.metrics import mean_absolute_error\n",
    "    mase = []\n",
    "    forecast = np.array(forecast_1)\n",
    "    truth = np.array(truth_1)\n",
    "    tru_diff = np.abs(truth[:, 1:] - truth[:, :-1])  # achieve .diff()\n",
    "    mean_diff = np.mean(tru_diff, axis=1)\n",
    "    for i in range(len(forecast)):\n",
    "        mae_ = mean_absolute_error( truth[i, :],forecast[i, :])\n",
    "        mean_diff_i = mean_diff[i] if mean_diff[i] != 0 else epsilon\n",
    "        mase.append(mae_ / mean_diff_i)\n",
    "    return mase"
   ]
  },
  {
   "cell_type": "code",
   "execution_count": 13,
   "id": "339600de-93b8-49cd-ae38-c1ff2d749b92",
   "metadata": {
    "tags": []
   },
   "outputs": [
    {
     "data": {
      "text/plain": [
       "'\\n##### base forecasts:\\nre_base_all = []\\nre_base_216 = []\\nfor i in range(len(es_b)):\\n    pred = es_b[i].reshape(14,28)\\n    truth = tru[i].reshape(14,28)\\n    re_base_all.append(forecast_mase(truth, pred, 1))\\n    re_base_216.append(np.mean(re_base_all))'"
      ]
     },
     "execution_count": 13,
     "metadata": {},
     "output_type": "execute_result"
    }
   ],
   "source": [
    "'''\n",
    "##### base forecasts:\n",
    "re_base_all = []\n",
    "re_base_216 = []\n",
    "for i in range(len(es_b)):\n",
    "    pred = es_b[i].reshape(14,28)\n",
    "    truth = tru[i].reshape(14,28)\n",
    "    re_base_all.append(forecast_mase(truth, pred, 1))\n",
    "    re_base_216.append(np.mean(re_base_all))'''"
   ]
  },
  {
   "cell_type": "code",
   "execution_count": 14,
   "id": "93012bb4-7f1b-462c-95fc-936de2d320d8",
   "metadata": {
    "tags": []
   },
   "outputs": [
    {
     "data": {
      "text/plain": [
       "'\\nnp.mean(re_base_216)'"
      ]
     },
     "execution_count": 14,
     "metadata": {},
     "output_type": "execute_result"
    }
   ],
   "source": [
    "'''\n",
    "np.mean(re_base_216)'''"
   ]
  },
  {
   "cell_type": "code",
   "execution_count": 17,
   "id": "fe865de2-72f8-4446-967f-2eda2b5531bf",
   "metadata": {
    "tags": []
   },
   "outputs": [
    {
     "name": "stderr",
     "output_type": "stream",
     "text": [
      "100%|███████████████████████████████████████████████████████████████████████████████████████████████████████████████████████████████████████████████████████████████████████████████████████| 1437/1437 [00:00<00:00, 18395.28it/s]\n"
     ]
    }
   ],
   "source": [
    "#### Summing Matrix\n",
    "l1 = np.ones(10).reshape(1,10)\n",
    "l2 = [[1, 1, 1, 1, 0, 0, 0, 0, 0, 0],\n",
    "     [0, 0, 0, 0, 1, 1, 1, 0, 0, 0],\n",
    "     [0, 0, 0, 0, 0, 0, 0, 1, 1, 1]]\n",
    "l3 = np.eye(10)\n",
    "S_Matrix = np.concatenate((l1, l2, l3), axis=0)\n",
    "################# TD method:\n",
    "# G matrix for TD, proportions of historical averages\n",
    "def G_Matrix_TD(df ,ts_length, ts_niah, ts_nibl):\n",
    "    n = int(len(df)/(ts_length*ts_niah))\n",
    "    G_td = []\n",
    "    df_ = np.array(df).reshape(n,int(len(df)/n))\n",
    "    for i in tqdm(range(n)):\n",
    "        ts = df_[i].reshape(ts_niah,ts_length)\n",
    "        prop = (np.mean(ts[-10:,:],axis = 1)/np.mean(ts[0,:])).reshape(ts_nibl,1)\n",
    "        zero = np.zeros((ts_nibl,ts_niah-1))\n",
    "        g_td = np.concatenate((prop, zero), axis=1)\n",
    "        G_td.append(g_td)\n",
    "    return G_td\n",
    "# Different G matrix for 3 methods:\n",
    "################# BU method:\n",
    "# G matrix for BU\n",
    "g1 = np.zeros((10,4))#（ bottom_level , except_bottom level）\n",
    "g2 = np.eye(10)# bottom level\n",
    "G_bu = np.concatenate((g1,g2), axis=1)\n",
    "\n",
    "################# TD method:\n",
    "# parameters: bottom level data, top level data, time series length, \n",
    "G_td = G_Matrix_TD(y_train, 1852, 14, 10)\n",
    "\n",
    "################# MinT method:\n",
    "I = np.ones(10)\n",
    "kh= 1\n",
    "W = np.diag(S_Matrix@I)\n",
    "G_mint = np.linalg.inv(S_Matrix.T@np.linalg.inv(W)@S_Matrix)@S_Matrix.T@np.linalg.inv(W)"
   ]
  },
  {
   "cell_type": "code",
   "execution_count": 18,
   "id": "ff8a7008-49b9-42eb-8e4c-572bf39be465",
   "metadata": {
    "tags": []
   },
   "outputs": [
    {
     "name": "stderr",
     "output_type": "stream",
     "text": [
      "100%|██████████████████████████████████████████████████████████████████████████████████████████████████████████████████████████████████████████████████████████████████████████████████████| 1437/1437 [00:00<00:00, 358698.74it/s]\n"
     ]
    }
   ],
   "source": [
    "################## Different SG matrix for 3 methods:\n",
    "SG_bu = np.dot(S_Matrix, G_bu)\n",
    "SG_mint = np.dot(S_Matrix,G_mint)\n",
    "SG_td = []\n",
    "for i in tqdm(range(len(G_td))):\n",
    "    sg_td = S_Matrix@G_td[i]\n",
    "    SG_td.append(sg_td)"
   ]
  },
  {
   "cell_type": "code",
   "execution_count": 19,
   "id": "bd9327c0-9b5a-4088-966f-5d5e2779af75",
   "metadata": {
    "tags": []
   },
   "outputs": [],
   "source": [
    "##### base forecasts:\n",
    "re_base_all = []\n",
    "re_base_216 = []\n",
    "for i in range(len(es_b)):\n",
    "    pred = es_b[i].reshape(14,28)\n",
    "    truth = tru[i].reshape(14,28)\n",
    "    re_base_all.append(forecast_mase(truth, pred, 1))\n",
    "    re_base_216.append(np.mean(re_base_all))\n",
    "##### bu forecasts:\n",
    "re_bu_all = []\n",
    "re_bu_216 = []\n",
    "for i in range(len(es_b)):\n",
    "    pred = es_b[i].reshape(14,28)\n",
    "    truth = tru[i].reshape(14,28)\n",
    "    y_coh_frec_bu = np.dot(SG_bu, pred)\n",
    "    re_bu_all.append(forecast_mase(truth, y_coh_frec_bu, 1))\n",
    "    re_bu_216.append(np.mean(re_bu_all))\n",
    "##### td forecasts:\n",
    "re_td_all = []\n",
    "re_td_216 = []\n",
    "for i in range(len(es_b)):\n",
    "    pred = es_b[i].reshape(14,28)\n",
    "    truth = tru[i].reshape(14,28)\n",
    "    y_coh_frec_td = np.dot(SG_td[i], pred)\n",
    "    re_td_all.append(forecast_mase(truth,y_coh_frec_td, 1))\n",
    "    re_td_216.append(np.mean(re_td_all))\n",
    "##### mint forecasts:\n",
    "re_mint_all = []\n",
    "re_mint_216 = []\n",
    "for i in range(len(es_b)):\n",
    "    pred = es_b[i].reshape(14,28)\n",
    "    truth = tru[i].reshape(14,28)\n",
    "    y_coh_frec_mint = np.dot(SG_mint, pred)\n",
    "    re_mint_all.append(forecast_mase(truth, y_coh_frec_mint, 1))\n",
    "    re_mint_216.append(np.mean(re_mint_all))"
   ]
  },
  {
   "cell_type": "code",
   "execution_count": 20,
   "id": "58588980-936f-4cd5-92e4-7f0ae8729115",
   "metadata": {
    "tags": []
   },
   "outputs": [
    {
     "name": "stdout",
     "output_type": "stream",
     "text": [
      "ES's forecasts: 1.0846238003881108\n",
      "ES with BU's forecasts: 1.0792911014546953\n",
      "ES with TD's forecasts: 1.1493052015204683\n",
      "ES with MinT's forecasts: 1.0826059449237881\n"
     ]
    }
   ],
   "source": [
    "print(\"ES's forecasts:\", np.mean(re_base_216))\n",
    "print(\"ES with BU's forecasts:\", np.mean(re_bu_216))\n",
    "print(\"ES with TD's forecasts:\", np.mean(re_td_216))\n",
    "print(\"ES with MinT's forecasts:\", np.mean(re_mint_216))"
   ]
  },
  {
   "cell_type": "code",
   "execution_count": null,
   "id": "99132edf-f1a0-4165-a132-fa8fe994a02e",
   "metadata": {},
   "outputs": [],
   "source": []
  }
 ],
 "metadata": {
  "kernelspec": {
   "display_name": "Python 3 (ipykernel)",
   "language": "python",
   "name": "python3"
  },
  "language_info": {
   "codemirror_mode": {
    "name": "ipython",
    "version": 3
   },
   "file_extension": ".py",
   "mimetype": "text/x-python",
   "name": "python",
   "nbconvert_exporter": "python",
   "pygments_lexer": "ipython3",
   "version": "3.9.7"
  }
 },
 "nbformat": 4,
 "nbformat_minor": 5
}
