{
 "cells": [
  {
   "cell_type": "code",
   "execution_count": 1,
   "id": "82eda347-20da-46f8-9649-507e4923a6ba",
   "metadata": {
    "tags": []
   },
   "outputs": [],
   "source": [
    "import pandas as pd\n",
    "import numpy as np\n",
    "from statsmodels.tsa.holtwinters import ExponentialSmoothing, SimpleExpSmoothing\n",
    "from tqdm import tqdm\n",
    "from sklearn.preprocessing import MinMaxScaler\n",
    "scaler = MinMaxScaler()"
   ]
  },
  {
   "cell_type": "code",
   "execution_count": 2,
   "id": "9700b24a-4179-4460-a0bc-970791485947",
   "metadata": {
    "tags": []
   },
   "outputs": [],
   "source": [
    "#x_train = pd.read_pickle('x_train.pkl')\n",
    "x_test = scaler.fit_transform(pd.read_pickle(\"x_test.pkl\").iloc[:,12:])\n",
    "y_train = scaler.fit_transform(pd.read_pickle('y_train.pkl'))\n",
    "y_test = scaler.fit_transform(pd.read_pickle(\"y_test.pkl\"))"
   ]
  },
  {
   "cell_type": "code",
   "execution_count": 3,
   "id": "2c6cb8e7-565c-456b-a105-d22e88ca28be",
   "metadata": {
    "tags": []
   },
   "outputs": [
    {
     "data": {
      "text/plain": [
       "array([[0.01191766, 0.00975081, 0.00325027, ..., 0.00713436, 0.00237812,\n",
       "        0.00713436],\n",
       "       [0.00216685, 0.01191766, 0.00975081, ..., 0.01189061, 0.00713436,\n",
       "        0.00237812],\n",
       "       [0.00325027, 0.00216685, 0.01191766, ..., 0.0059453 , 0.01189061,\n",
       "        0.00713436],\n",
       "       ...,\n",
       "       [0.00216685, 0.        , 0.00433369, ..., 0.        , 0.00237812,\n",
       "        0.00475624],\n",
       "       [0.00216685, 0.00216685, 0.        , ..., 0.0059453 , 0.        ,\n",
       "        0.00237812],\n",
       "       [0.00541712, 0.00216685, 0.00216685, ..., 0.00356718, 0.0059453 ,\n",
       "        0.        ]])"
      ]
     },
     "execution_count": 3,
     "metadata": {},
     "output_type": "execute_result"
    }
   ],
   "source": [
    "#x_test = x_test.iloc[:,12:]\n",
    "x_test"
   ]
  },
  {
   "cell_type": "code",
   "execution_count": 4,
   "id": "2c8a1efc-4553-46d4-b1f4-92716b484a09",
   "metadata": {
    "tags": []
   },
   "outputs": [
    {
     "data": {
      "text/plain": [
       "(1195208, 61)"
      ]
     },
     "execution_count": 4,
     "metadata": {},
     "output_type": "execute_result"
    }
   ],
   "source": [
    "np.shape(np.array(x_test))"
   ]
  },
  {
   "cell_type": "code",
   "execution_count": 5,
   "id": "c84f03e8-8633-4490-91e7-8d4755c278e1",
   "metadata": {
    "tags": []
   },
   "outputs": [],
   "source": [
    "forecast_horizon = 1\n",
    "es_base = []"
   ]
  },
  {
   "cell_type": "code",
   "execution_count": 6,
   "id": "9f279752-a17a-4f9c-8148-0089e1803a84",
   "metadata": {
    "tags": []
   },
   "outputs": [],
   "source": [
    "# train the ES model:\n",
    "import warnings\n",
    "warnings.filterwarnings(\"ignore\", category=Warning)"
   ]
  },
  {
   "cell_type": "code",
   "execution_count": 8,
   "id": "3c90a79b-1079-48f1-9741-cb3b1685ee68",
   "metadata": {
    "scrolled": true,
    "tags": []
   },
   "outputs": [
    {
     "name": "stderr",
     "output_type": "stream",
     "text": [
      "100%|█████████████████████████████████████████████████████████████████████████████████████████████████| 1195208/1195208 [1:29:22<00:00, 222.87it/s]\n"
     ]
    }
   ],
   "source": [
    "\n",
    "for i in tqdm(range(len(x_test))):\n",
    "    ES = SimpleExpSmoothing(x_test[i,:])\n",
    "    result = ES.fit()\n",
    "    forc = result.forecast(steps=forecast_horizon)\n",
    "    es_base.append(forc)\n",
    "    #tru = y_test[i]\n",
    "    #es_mase.append(forecast_mase(tru,forc,1))"
   ]
  },
  {
   "cell_type": "code",
   "execution_count": 9,
   "id": "7e72a22c-92ad-407c-b8d8-9619e98d357c",
   "metadata": {
    "tags": []
   },
   "outputs": [
    {
     "data": {
      "text/plain": [
       "(1195208, 1)"
      ]
     },
     "execution_count": 9,
     "metadata": {},
     "output_type": "execute_result"
    }
   ],
   "source": [
    "np.shape(es_base)"
   ]
  },
  {
   "cell_type": "code",
   "execution_count": 11,
   "id": "f47a9545-1b9f-4f8d-8fc2-3dec05dfa0bc",
   "metadata": {
    "scrolled": true,
    "tags": []
   },
   "outputs": [],
   "source": [
    "es_b = np.array(es_base).reshape(3049,392)\n",
    "tru = np.array(y_test).reshape(3049,392)"
   ]
  },
  {
   "cell_type": "code",
   "execution_count": 12,
   "id": "70f3715f-a80f-4038-84ae-7ce200db9807",
   "metadata": {
    "tags": []
   },
   "outputs": [
    {
     "data": {
      "text/plain": [
       "array([[0.00216685, 0.00325027, 0.00216685, ..., 0.        , 0.        ,\n",
       "        0.        ],\n",
       "       [0.00216685, 0.00108342, 0.        , ..., 0.        , 0.        ,\n",
       "        0.00108342],\n",
       "       [0.00108342, 0.00216685, 0.00216685, ..., 0.        , 0.        ,\n",
       "        0.        ],\n",
       "       ...,\n",
       "       [0.01191766, 0.00975081, 0.00433369, ..., 0.00108342, 0.        ,\n",
       "        0.00216685],\n",
       "       [0.01408451, 0.01408451, 0.01733478, ..., 0.00108342, 0.00108342,\n",
       "        0.        ],\n",
       "       [0.04550379, 0.02816901, 0.01408451, ..., 0.00216685, 0.00541712,\n",
       "        0.00108342]])"
      ]
     },
     "execution_count": 12,
     "metadata": {},
     "output_type": "execute_result"
    }
   ],
   "source": [
    "tru"
   ]
  },
  {
   "cell_type": "code",
   "execution_count": 13,
   "id": "81d11528-68ae-4c49-8d17-35163d6e9b2e",
   "metadata": {
    "tags": []
   },
   "outputs": [],
   "source": [
    "def forecast_mase(truth_1,forecast_1, epsilon):\n",
    "    from sklearn.metrics import mean_absolute_error\n",
    "    mase = []\n",
    "    forecast = np.array(forecast_1)\n",
    "    truth = np.array(truth_1)\n",
    "    tru_diff = np.abs(truth[:, 1:] - truth[:, :-1])  # achieve .diff()\n",
    "    mean_diff = np.mean(tru_diff, axis=1)\n",
    "    for i in range(len(forecast)):\n",
    "        mae_ = mean_absolute_error( truth[i, :],forecast[i, :])\n",
    "        mean_diff_i = mean_diff[i] if mean_diff[i] != 0 else epsilon\n",
    "        mase.append(mae_ / mean_diff_i)\n",
    "    return mase"
   ]
  },
  {
   "cell_type": "code",
   "execution_count": 13,
   "id": "339600de-93b8-49cd-ae38-c1ff2d749b92",
   "metadata": {
    "tags": []
   },
   "outputs": [
    {
     "data": {
      "text/plain": [
       "'\\n##### base forecasts:\\nre_base_all = []\\nre_base_216 = []\\nfor i in range(len(es_b)):\\n    pred = es_b[i].reshape(14,28)\\n    truth = tru[i].reshape(14,28)\\n    re_base_all.append(forecast_mase(truth, pred, 1))\\n    re_base_216.append(np.mean(re_base_all))'"
      ]
     },
     "execution_count": 13,
     "metadata": {},
     "output_type": "execute_result"
    }
   ],
   "source": [
    "'''\n",
    "##### base forecasts:\n",
    "re_base_all = []\n",
    "re_base_216 = []\n",
    "for i in range(len(es_b)):\n",
    "    pred = es_b[i].reshape(14,28)\n",
    "    truth = tru[i].reshape(14,28)\n",
    "    re_base_all.append(forecast_mase(truth, pred, 1))\n",
    "    re_base_216.append(np.mean(re_base_all))'''"
   ]
  },
  {
   "cell_type": "code",
   "execution_count": 14,
   "id": "93012bb4-7f1b-462c-95fc-936de2d320d8",
   "metadata": {
    "tags": []
   },
   "outputs": [
    {
     "data": {
      "text/plain": [
       "'\\nnp.mean(re_base_216)'"
      ]
     },
     "execution_count": 14,
     "metadata": {},
     "output_type": "execute_result"
    }
   ],
   "source": [
    "'''\n",
    "np.mean(re_base_216)'''"
   ]
  },
  {
   "cell_type": "code",
   "execution_count": 14,
   "id": "fe865de2-72f8-4446-967f-2eda2b5531bf",
   "metadata": {
    "tags": []
   },
   "outputs": [
    {
     "name": "stderr",
     "output_type": "stream",
     "text": [
      "100%|███████████████████████████████████████████████████████████████████████████████████████████████████████| 3049/3049 [00:00<00:00, 11901.79it/s]\n"
     ]
    }
   ],
   "source": [
    "#### Summing Matrix\n",
    "l1 = np.ones(10).reshape(1,10)\n",
    "l2 = [[1, 1, 1, 1, 0, 0, 0, 0, 0, 0],\n",
    "     [0, 0, 0, 0, 1, 1, 1, 0, 0, 0],\n",
    "     [0, 0, 0, 0, 0, 0, 0, 1, 1, 1]]\n",
    "l3 = np.eye(10)\n",
    "S_Matrix = np.concatenate((l1, l2, l3), axis=0)\n",
    "################# TD method:\n",
    "# G matrix for TD, proportions of historical averages\n",
    "def G_Matrix_TD(df ,ts_length, ts_niah, ts_nibl):\n",
    "    n = int(len(df)/(ts_length*ts_niah))\n",
    "    G_td = []\n",
    "    df_ = np.array(df).reshape(n,int(len(df)/n))\n",
    "    for i in tqdm(range(n)):\n",
    "        ts = df_[i].reshape(ts_niah,ts_length)\n",
    "        prop = (np.mean(ts[-10:,:],axis = 1)/np.mean(ts[0,:])).reshape(ts_nibl,1)\n",
    "        zero = np.zeros((ts_nibl,ts_niah-1))\n",
    "        g_td = np.concatenate((prop, zero), axis=1)\n",
    "        G_td.append(g_td)\n",
    "    return G_td\n",
    "# Different G matrix for 3 methods:\n",
    "################# BU method:\n",
    "# G matrix for BU\n",
    "g1 = np.zeros((10,4))#（ bottom_level , except_bottom level）\n",
    "g2 = np.eye(10)# bottom level\n",
    "G_bu = np.concatenate((g1,g2), axis=1)\n",
    "\n",
    "################# TD method:\n",
    "# parameters: bottom level data, top level data, time series length, \n",
    "G_td = G_Matrix_TD(y_train, 1852, 14, 10)\n",
    "\n",
    "################# MinT method:\n",
    "I = np.ones(10)\n",
    "kh= 1\n",
    "W = np.diag(S_Matrix@I)\n",
    "G_mint = np.linalg.inv(S_Matrix.T@np.linalg.inv(W)@S_Matrix)@S_Matrix.T@np.linalg.inv(W)"
   ]
  },
  {
   "cell_type": "code",
   "execution_count": 15,
   "id": "ff8a7008-49b9-42eb-8e4c-572bf39be465",
   "metadata": {
    "tags": []
   },
   "outputs": [
    {
     "name": "stderr",
     "output_type": "stream",
     "text": [
      "100%|██████████████████████████████████████████████████████████████████████████████████████████████████████| 3049/3049 [00:00<00:00, 234499.55it/s]\n"
     ]
    }
   ],
   "source": [
    "################## Different SG matrix for 3 methods:\n",
    "SG_bu = np.dot(S_Matrix, G_bu)\n",
    "SG_mint = np.dot(S_Matrix,G_mint)\n",
    "SG_td = []\n",
    "for i in tqdm(range(len(G_td))):\n",
    "    sg_td = S_Matrix@G_td[i]\n",
    "    SG_td.append(sg_td)"
   ]
  },
  {
   "cell_type": "code",
   "execution_count": 16,
   "id": "bd9327c0-9b5a-4088-966f-5d5e2779af75",
   "metadata": {
    "tags": []
   },
   "outputs": [],
   "source": [
    "##### base forecasts:\n",
    "re_base_all = []\n",
    "re_base_216 = []\n",
    "for i in range(len(es_b)):\n",
    "    pred = es_b[i].reshape(14,28)\n",
    "    truth = tru[i].reshape(14,28)\n",
    "    re_base_all.append(forecast_mase(truth, pred, 1))\n",
    "    re_base_216.append(np.mean(re_base_all))\n",
    "##### bu forecasts:\n",
    "re_bu_all = []\n",
    "re_bu_216 = []\n",
    "for i in range(len(es_b)):\n",
    "    pred = es_b[i].reshape(14,28)\n",
    "    truth = tru[i].reshape(14,28)\n",
    "    y_coh_frec_bu = np.dot(SG_bu, pred)\n",
    "    re_bu_all.append(forecast_mase(truth, y_coh_frec_bu, 1))\n",
    "    re_bu_216.append(np.mean(re_bu_all))\n",
    "##### td forecasts:\n",
    "re_td_all = []\n",
    "re_td_216 = []\n",
    "for i in range(len(es_b)):\n",
    "    pred = es_b[i].reshape(14,28)\n",
    "    truth = tru[i].reshape(14,28)\n",
    "    y_coh_frec_td = np.dot(SG_td[i], pred)\n",
    "    re_td_all.append(forecast_mase(truth,y_coh_frec_td, 1))\n",
    "    re_td_216.append(np.mean(re_td_all))\n",
    "##### mint forecasts:\n",
    "re_mint_all = []\n",
    "re_mint_216 = []\n",
    "for i in range(len(es_b)):\n",
    "    pred = es_b[i].reshape(14,28)\n",
    "    truth = tru[i].reshape(14,28)\n",
    "    y_coh_frec_mint = np.dot(SG_mint, pred)\n",
    "    re_mint_all.append(forecast_mase(truth, y_coh_frec_mint, 1))\n",
    "    re_mint_216.append(np.mean(re_mint_all))"
   ]
  },
  {
   "cell_type": "code",
   "execution_count": 17,
   "id": "b3ce7766-0153-4288-bd20-1fedddb446c4",
   "metadata": {},
   "outputs": [
    {
     "name": "stdout",
     "output_type": "stream",
     "text": [
      "ES's forecasts: 1.011334343082247\n",
      "ES with BU's forecasts: 1.0071222573139647\n",
      "ES with TD's forecasts: 1.0374173386780852\n",
      "ES with MinT's forecasts: 1.0118783479316238\n"
     ]
    }
   ],
   "source": [
    "print(\"ES's forecasts:\", np.mean(re_base_216))\n",
    "print(\"ES with BU's forecasts:\", np.mean(re_bu_216))\n",
    "print(\"ES with TD's forecasts:\", np.mean(re_td_216))\n",
    "print(\"ES with MinT's forecasts:\", np.mean(re_mint_216))"
   ]
  },
  {
   "cell_type": "code",
   "execution_count": 18,
   "id": "99132edf-f1a0-4165-a132-fa8fe994a02e",
   "metadata": {},
   "outputs": [],
   "source": [
    "# np.shape(results) : \n",
    "def LevelMase(results, level_sta,level_gap,):\n",
    "    level_mase = []\n",
    "    if level_sta == 0:\n",
    "        for i in range(len(results)):\n",
    "            level_mase.append(results[i][level_sta])\n",
    "    elif level_sta != 0:\n",
    "        for i in range(len(results)):\n",
    "            level_mase.append(results[i][level_sta:level_sta+level_gap])        \n",
    "    return level_mase"
   ]
  },
  {
   "cell_type": "code",
   "execution_count": 23,
   "id": "66ce8dbe-d71e-48d5-8773-13e5c5a304df",
   "metadata": {},
   "outputs": [
    {
     "name": "stdout",
     "output_type": "stream",
     "text": [
      "ES's base forecasts' L1 MASE: 2.5855044835584815\n",
      "ES's base forecasts' L2 MASE: 1.1568612557899505\n",
      "ES's base forecasts' L3 MASE: 1.0199019711821045\n"
     ]
    }
   ],
   "source": [
    "l1_base_216 = LevelMase(re_base_all,0,0)\n",
    "l2_base_216 = LevelMase(re_base_all,1,3)\n",
    "l3_base_216 = LevelMase(re_base_all,4,10)\n",
    "print(\"ES's base forecasts' L1 MASE:\", np.mean(l1_base_216))\n",
    "print(\"ES's base forecasts' L2 MASE:\", np.mean(l2_base_216))\n",
    "print(\"ES's base forecasts' L3 MASE:\", np.mean(l3_base_216))"
   ]
  },
  {
   "cell_type": "code",
   "execution_count": 20,
   "id": "37eaa343-b30a-4fec-a529-d8c03ea87c2b",
   "metadata": {},
   "outputs": [
    {
     "name": "stdout",
     "output_type": "stream",
     "text": [
      "ES's BU forecasts' L1 MASE: 2.4797570629797625\n",
      "ES's BU forecasts' L2 MASE: 1.141846797245144\n",
      "ES's BU forecasts' L3 MASE: 1.0199019711821045\n"
     ]
    }
   ],
   "source": [
    "l1_bu_216 = LevelMase(re_bu_all,0,0)\n",
    "l2_bu_216 = LevelMase(re_bu_all,1,3)\n",
    "l3_bu_216 = LevelMase(re_bu_all,4,10)\n",
    "print(\"ES's BU forecasts' L1 MASE:\", np.mean(l1_bu_216))\n",
    "print(\"ES's BU forecasts' L2 MASE:\", np.mean(l2_bu_216))\n",
    "print(\"ES's BU forecasts' L3 MASE:\", np.mean(l3_bu_216))"
   ]
  },
  {
   "cell_type": "code",
   "execution_count": 21,
   "id": "088b183b-d883-4607-993e-d9b266e26910",
   "metadata": {},
   "outputs": [
    {
     "name": "stdout",
     "output_type": "stream",
     "text": [
      "ES's TD forecasts' L1 MASE: 2.5855044835584815\n",
      "ES's TD forecasts' L2 MASE: 1.1905276560174918\n",
      "ES's TD forecasts' L3 MASE: 1.064919833797746\n"
     ]
    }
   ],
   "source": [
    "l1_td_216 = LevelMase(re_td_all,0,0)\n",
    "l2_td_216 = LevelMase(re_td_all,1,3)\n",
    "l3_td_216 = LevelMase(re_td_all,4,10)\n",
    "print(\"ES's TD forecasts' L1 MASE:\", np.mean(l1_td_216))\n",
    "print(\"ES's TD forecasts' L2 MASE:\", np.mean(l2_td_216))\n",
    "print(\"ES's TD forecasts' L3 MASE:\", np.mean(l3_td_216))"
   ]
  },
  {
   "cell_type": "code",
   "execution_count": 22,
   "id": "bce72510-d03d-4949-afbf-b9f1c12ccb30",
   "metadata": {},
   "outputs": [
    {
     "name": "stdout",
     "output_type": "stream",
     "text": [
      "ES's MinT forecasts' L1 MASE: 2.5322615369928028\n",
      "ES's MinT forecasts' L2 MASE: 1.1516857106675709\n",
      "ES's MinT forecasts' L3 MASE: 1.0256745810577583\n"
     ]
    }
   ],
   "source": [
    "l1_mint_216 = LevelMase(re_mint_all,0,0)\n",
    "l2_mint_216 = LevelMase(re_mint_all,1,3)\n",
    "l3_mint_216 = LevelMase(re_mint_all,4,10)\n",
    "print(\"ES's MinT forecasts' L1 MASE:\", np.mean(l1_mint_216))\n",
    "print(\"ES's MinT forecasts' L2 MASE:\", np.mean(l2_mint_216))\n",
    "print(\"ES's MinT forecasts' L3 MASE:\", np.mean(l3_mint_216))"
   ]
  },
  {
   "cell_type": "code",
   "execution_count": 29,
   "id": "ad22e73d-83b7-4949-a5c2-586f2b31a3af",
   "metadata": {
    "scrolled": true,
    "tags": []
   },
   "outputs": [
    {
     "data": {
      "text/plain": [
       "1063.7338746626947"
      ]
     },
     "execution_count": 29,
     "metadata": {},
     "output_type": "execute_result"
    }
   ],
   "source": [
    "np.max(re_base_all)"
   ]
  },
  {
   "cell_type": "code",
   "execution_count": null,
   "id": "9dd7365a-5916-4c17-8dd4-30f98ea85845",
   "metadata": {},
   "outputs": [],
   "source": []
  }
 ],
 "metadata": {
  "kernelspec": {
   "display_name": "Python 3 (ipykernel)",
   "language": "python",
   "name": "python3"
  },
  "language_info": {
   "codemirror_mode": {
    "name": "ipython",
    "version": 3
   },
   "file_extension": ".py",
   "mimetype": "text/x-python",
   "name": "python",
   "nbconvert_exporter": "python",
   "pygments_lexer": "ipython3",
   "version": "3.11.3"
  }
 },
 "nbformat": 4,
 "nbformat_minor": 5
}
