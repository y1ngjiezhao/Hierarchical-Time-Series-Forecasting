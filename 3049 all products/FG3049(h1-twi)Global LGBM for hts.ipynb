{
 "cells": [
  {
   "cell_type": "code",
   "execution_count": 1,
   "id": "cdf68236-3023-4900-a359-bdc47fab78a2",
   "metadata": {
    "tags": []
   },
   "outputs": [],
   "source": [
    "import pandas as pd\n",
    "import numpy as np\n",
    "import lightgbm as lgb\n",
    "from sklearn.preprocessing import MinMaxScaler\n",
    "scaler = MinMaxScaler()"
   ]
  },
  {
   "cell_type": "code",
   "execution_count": 2,
   "id": "79d57878-d340-4454-826c-0406a3c52e5c",
   "metadata": {
    "tags": []
   },
   "outputs": [],
   "source": [
    "# to import data sets for each level\n",
    "# is in order to get a clear structure of matrix\n",
    "'''\n",
    "eva_1 = pd.read_pickle('eva_l0.pkl')\n",
    "eva_2 = pd.read_pickle('eva_l1.pkl')\n",
    "eva_3 = pd.read_pickle('eva_l2.pkl')\n",
    "eva_4 = pd.read_pickle('eva_l3.pkl')\n",
    "eva_list = [eva_1,eva_2,eva_3,eva_4]\n",
    "'''\n",
    "# get the train&test sets\n",
    "######################################################\n",
    "lgb_train = lgb.Dataset(scaler.fit_transform(pd.read_pickle('x_train.pkl').iloc[:,12:]),\n",
    "                        scaler.fit_transform(pd.read_pickle('y_train.pkl')))\n",
    "\n",
    "#x_train = pd.read_pickle('x_train.pkl')\n",
    "x_test = scaler.fit_transform(pd.read_pickle('x_test.pkl').iloc[:,12:])\n",
    "#y_train = pd.read_pickle('y_train.pkl')\n",
    "y_test = scaler.fit_transform(pd.read_pickle('y_test.pkl')).reshape(3049,392)"
   ]
  },
  {
   "cell_type": "code",
   "execution_count": 3,
   "id": "287ab8cc-375b-4367-90bb-dff2aa79ae07",
   "metadata": {},
   "outputs": [
    {
     "data": {
      "text/plain": [
       "28.0"
      ]
     },
     "execution_count": 3,
     "metadata": {},
     "output_type": "execute_result"
    }
   ],
   "source": [
    "(len(x_test)/3049)/14"
   ]
  },
  {
   "cell_type": "code",
   "execution_count": null,
   "id": "98f9c695-a07b-4394-833f-8979034f1203",
   "metadata": {},
   "outputs": [],
   "source": [
    "#y_test = scaler.fit_transform(pd.read_pickle('y_test.pkl')).reshape(3049,392)"
   ]
  },
  {
   "cell_type": "code",
   "execution_count": 3,
   "id": "872af4a1-bb32-48f5-bfab-72edcfba6e91",
   "metadata": {
    "tags": []
   },
   "outputs": [],
   "source": [
    "#y_test = np.array(y_test_l).reshape(1437,392)"
   ]
  },
  {
   "cell_type": "code",
   "execution_count": 5,
   "id": "84299c23-6edc-44e9-b948-6b35d054d449",
   "metadata": {},
   "outputs": [
    {
     "data": {
      "text/html": [
       "<div>\n",
       "<style scoped>\n",
       "    .dataframe tbody tr th:only-of-type {\n",
       "        vertical-align: middle;\n",
       "    }\n",
       "\n",
       "    .dataframe tbody tr th {\n",
       "        vertical-align: top;\n",
       "    }\n",
       "\n",
       "    .dataframe thead th {\n",
       "        text-align: right;\n",
       "    }\n",
       "</style>\n",
       "<table border=\"1\" class=\"dataframe\">\n",
       "  <thead>\n",
       "    <tr style=\"text-align: right;\">\n",
       "      <th></th>\n",
       "      <th>sales</th>\n",
       "      <th>x_1DaysAgo</th>\n",
       "      <th>x_2DaysAgo</th>\n",
       "      <th>x_3DaysAgo</th>\n",
       "      <th>x_4DaysAgo</th>\n",
       "      <th>x_5DaysAgo</th>\n",
       "      <th>x_6DaysAgo</th>\n",
       "      <th>x_7DaysAgo</th>\n",
       "      <th>x_8DaysAgo</th>\n",
       "      <th>x_9DaysAgo</th>\n",
       "      <th>...</th>\n",
       "      <th>x_51DaysAgo</th>\n",
       "      <th>x_52DaysAgo</th>\n",
       "      <th>x_53DaysAgo</th>\n",
       "      <th>x_54DaysAgo</th>\n",
       "      <th>x_55DaysAgo</th>\n",
       "      <th>x_56DaysAgo</th>\n",
       "      <th>x_57DaysAgo</th>\n",
       "      <th>x_58DaysAgo</th>\n",
       "      <th>x_59DaysAgo</th>\n",
       "      <th>x_60DaysAgo</th>\n",
       "    </tr>\n",
       "  </thead>\n",
       "  <tbody>\n",
       "    <tr>\n",
       "      <th>60</th>\n",
       "      <td>4</td>\n",
       "      <td>7.0</td>\n",
       "      <td>10.0</td>\n",
       "      <td>13.0</td>\n",
       "      <td>16.0</td>\n",
       "      <td>4.0</td>\n",
       "      <td>5.0</td>\n",
       "      <td>6.0</td>\n",
       "      <td>9.0</td>\n",
       "      <td>13.0</td>\n",
       "      <td>...</td>\n",
       "      <td>10.0</td>\n",
       "      <td>11.0</td>\n",
       "      <td>4.0</td>\n",
       "      <td>10.0</td>\n",
       "      <td>18.0</td>\n",
       "      <td>7.0</td>\n",
       "      <td>6.0</td>\n",
       "      <td>4.0</td>\n",
       "      <td>6.0</td>\n",
       "      <td>6.0</td>\n",
       "    </tr>\n",
       "    <tr>\n",
       "      <th>61</th>\n",
       "      <td>9</td>\n",
       "      <td>4.0</td>\n",
       "      <td>7.0</td>\n",
       "      <td>10.0</td>\n",
       "      <td>13.0</td>\n",
       "      <td>16.0</td>\n",
       "      <td>4.0</td>\n",
       "      <td>5.0</td>\n",
       "      <td>6.0</td>\n",
       "      <td>9.0</td>\n",
       "      <td>...</td>\n",
       "      <td>6.0</td>\n",
       "      <td>10.0</td>\n",
       "      <td>11.0</td>\n",
       "      <td>4.0</td>\n",
       "      <td>10.0</td>\n",
       "      <td>18.0</td>\n",
       "      <td>7.0</td>\n",
       "      <td>6.0</td>\n",
       "      <td>4.0</td>\n",
       "      <td>6.0</td>\n",
       "    </tr>\n",
       "    <tr>\n",
       "      <th>62</th>\n",
       "      <td>13</td>\n",
       "      <td>9.0</td>\n",
       "      <td>4.0</td>\n",
       "      <td>7.0</td>\n",
       "      <td>10.0</td>\n",
       "      <td>13.0</td>\n",
       "      <td>16.0</td>\n",
       "      <td>4.0</td>\n",
       "      <td>5.0</td>\n",
       "      <td>6.0</td>\n",
       "      <td>...</td>\n",
       "      <td>5.0</td>\n",
       "      <td>6.0</td>\n",
       "      <td>10.0</td>\n",
       "      <td>11.0</td>\n",
       "      <td>4.0</td>\n",
       "      <td>10.0</td>\n",
       "      <td>18.0</td>\n",
       "      <td>7.0</td>\n",
       "      <td>6.0</td>\n",
       "      <td>4.0</td>\n",
       "    </tr>\n",
       "    <tr>\n",
       "      <th>63</th>\n",
       "      <td>23</td>\n",
       "      <td>13.0</td>\n",
       "      <td>9.0</td>\n",
       "      <td>4.0</td>\n",
       "      <td>7.0</td>\n",
       "      <td>10.0</td>\n",
       "      <td>13.0</td>\n",
       "      <td>16.0</td>\n",
       "      <td>4.0</td>\n",
       "      <td>5.0</td>\n",
       "      <td>...</td>\n",
       "      <td>12.0</td>\n",
       "      <td>5.0</td>\n",
       "      <td>6.0</td>\n",
       "      <td>10.0</td>\n",
       "      <td>11.0</td>\n",
       "      <td>4.0</td>\n",
       "      <td>10.0</td>\n",
       "      <td>18.0</td>\n",
       "      <td>7.0</td>\n",
       "      <td>6.0</td>\n",
       "    </tr>\n",
       "    <tr>\n",
       "      <th>64</th>\n",
       "      <td>9</td>\n",
       "      <td>23.0</td>\n",
       "      <td>13.0</td>\n",
       "      <td>9.0</td>\n",
       "      <td>4.0</td>\n",
       "      <td>7.0</td>\n",
       "      <td>10.0</td>\n",
       "      <td>13.0</td>\n",
       "      <td>16.0</td>\n",
       "      <td>4.0</td>\n",
       "      <td>...</td>\n",
       "      <td>15.0</td>\n",
       "      <td>12.0</td>\n",
       "      <td>5.0</td>\n",
       "      <td>6.0</td>\n",
       "      <td>10.0</td>\n",
       "      <td>11.0</td>\n",
       "      <td>4.0</td>\n",
       "      <td>10.0</td>\n",
       "      <td>18.0</td>\n",
       "      <td>7.0</td>\n",
       "    </tr>\n",
       "    <tr>\n",
       "      <th>...</th>\n",
       "      <td>...</td>\n",
       "      <td>...</td>\n",
       "      <td>...</td>\n",
       "      <td>...</td>\n",
       "      <td>...</td>\n",
       "      <td>...</td>\n",
       "      <td>...</td>\n",
       "      <td>...</td>\n",
       "      <td>...</td>\n",
       "      <td>...</td>\n",
       "      <td>...</td>\n",
       "      <td>...</td>\n",
       "      <td>...</td>\n",
       "      <td>...</td>\n",
       "      <td>...</td>\n",
       "      <td>...</td>\n",
       "      <td>...</td>\n",
       "      <td>...</td>\n",
       "      <td>...</td>\n",
       "      <td>...</td>\n",
       "      <td>...</td>\n",
       "    </tr>\n",
       "    <tr>\n",
       "      <th>19376</th>\n",
       "      <td>0</td>\n",
       "      <td>0.0</td>\n",
       "      <td>0.0</td>\n",
       "      <td>1.0</td>\n",
       "      <td>0.0</td>\n",
       "      <td>0.0</td>\n",
       "      <td>0.0</td>\n",
       "      <td>0.0</td>\n",
       "      <td>1.0</td>\n",
       "      <td>0.0</td>\n",
       "      <td>...</td>\n",
       "      <td>0.0</td>\n",
       "      <td>0.0</td>\n",
       "      <td>0.0</td>\n",
       "      <td>0.0</td>\n",
       "      <td>0.0</td>\n",
       "      <td>0.0</td>\n",
       "      <td>0.0</td>\n",
       "      <td>0.0</td>\n",
       "      <td>1.0</td>\n",
       "      <td>0.0</td>\n",
       "    </tr>\n",
       "    <tr>\n",
       "      <th>19377</th>\n",
       "      <td>0</td>\n",
       "      <td>0.0</td>\n",
       "      <td>0.0</td>\n",
       "      <td>0.0</td>\n",
       "      <td>1.0</td>\n",
       "      <td>0.0</td>\n",
       "      <td>0.0</td>\n",
       "      <td>0.0</td>\n",
       "      <td>0.0</td>\n",
       "      <td>1.0</td>\n",
       "      <td>...</td>\n",
       "      <td>0.0</td>\n",
       "      <td>0.0</td>\n",
       "      <td>0.0</td>\n",
       "      <td>0.0</td>\n",
       "      <td>0.0</td>\n",
       "      <td>0.0</td>\n",
       "      <td>0.0</td>\n",
       "      <td>0.0</td>\n",
       "      <td>0.0</td>\n",
       "      <td>1.0</td>\n",
       "    </tr>\n",
       "    <tr>\n",
       "      <th>19378</th>\n",
       "      <td>0</td>\n",
       "      <td>0.0</td>\n",
       "      <td>0.0</td>\n",
       "      <td>0.0</td>\n",
       "      <td>0.0</td>\n",
       "      <td>1.0</td>\n",
       "      <td>0.0</td>\n",
       "      <td>0.0</td>\n",
       "      <td>0.0</td>\n",
       "      <td>0.0</td>\n",
       "      <td>...</td>\n",
       "      <td>1.0</td>\n",
       "      <td>0.0</td>\n",
       "      <td>0.0</td>\n",
       "      <td>0.0</td>\n",
       "      <td>0.0</td>\n",
       "      <td>0.0</td>\n",
       "      <td>0.0</td>\n",
       "      <td>0.0</td>\n",
       "      <td>0.0</td>\n",
       "      <td>0.0</td>\n",
       "    </tr>\n",
       "    <tr>\n",
       "      <th>19379</th>\n",
       "      <td>0</td>\n",
       "      <td>0.0</td>\n",
       "      <td>0.0</td>\n",
       "      <td>0.0</td>\n",
       "      <td>0.0</td>\n",
       "      <td>0.0</td>\n",
       "      <td>1.0</td>\n",
       "      <td>0.0</td>\n",
       "      <td>0.0</td>\n",
       "      <td>0.0</td>\n",
       "      <td>...</td>\n",
       "      <td>2.0</td>\n",
       "      <td>1.0</td>\n",
       "      <td>0.0</td>\n",
       "      <td>0.0</td>\n",
       "      <td>0.0</td>\n",
       "      <td>0.0</td>\n",
       "      <td>0.0</td>\n",
       "      <td>0.0</td>\n",
       "      <td>0.0</td>\n",
       "      <td>0.0</td>\n",
       "    </tr>\n",
       "    <tr>\n",
       "      <th>19380</th>\n",
       "      <td>4</td>\n",
       "      <td>0.0</td>\n",
       "      <td>0.0</td>\n",
       "      <td>0.0</td>\n",
       "      <td>0.0</td>\n",
       "      <td>0.0</td>\n",
       "      <td>0.0</td>\n",
       "      <td>1.0</td>\n",
       "      <td>0.0</td>\n",
       "      <td>0.0</td>\n",
       "      <td>...</td>\n",
       "      <td>0.0</td>\n",
       "      <td>2.0</td>\n",
       "      <td>1.0</td>\n",
       "      <td>0.0</td>\n",
       "      <td>0.0</td>\n",
       "      <td>0.0</td>\n",
       "      <td>0.0</td>\n",
       "      <td>0.0</td>\n",
       "      <td>0.0</td>\n",
       "      <td>0.0</td>\n",
       "    </tr>\n",
       "  </tbody>\n",
       "</table>\n",
       "<p>25928 rows × 61 columns</p>\n",
       "</div>"
      ],
      "text/plain": [
       "       sales  x_1DaysAgo  x_2DaysAgo  x_3DaysAgo  x_4DaysAgo  x_5DaysAgo  \\\n",
       "60         4         7.0        10.0        13.0        16.0         4.0   \n",
       "61         9         4.0         7.0        10.0        13.0        16.0   \n",
       "62        13         9.0         4.0         7.0        10.0        13.0   \n",
       "63        23        13.0         9.0         4.0         7.0        10.0   \n",
       "64         9        23.0        13.0         9.0         4.0         7.0   \n",
       "...      ...         ...         ...         ...         ...         ...   \n",
       "19376      0         0.0         0.0         1.0         0.0         0.0   \n",
       "19377      0         0.0         0.0         0.0         1.0         0.0   \n",
       "19378      0         0.0         0.0         0.0         0.0         1.0   \n",
       "19379      0         0.0         0.0         0.0         0.0         0.0   \n",
       "19380      4         0.0         0.0         0.0         0.0         0.0   \n",
       "\n",
       "       x_6DaysAgo  x_7DaysAgo  x_8DaysAgo  x_9DaysAgo  ...  x_51DaysAgo  \\\n",
       "60            5.0         6.0         9.0        13.0  ...         10.0   \n",
       "61            4.0         5.0         6.0         9.0  ...          6.0   \n",
       "62           16.0         4.0         5.0         6.0  ...          5.0   \n",
       "63           13.0        16.0         4.0         5.0  ...         12.0   \n",
       "64           10.0        13.0        16.0         4.0  ...         15.0   \n",
       "...           ...         ...         ...         ...  ...          ...   \n",
       "19376         0.0         0.0         1.0         0.0  ...          0.0   \n",
       "19377         0.0         0.0         0.0         1.0  ...          0.0   \n",
       "19378         0.0         0.0         0.0         0.0  ...          1.0   \n",
       "19379         1.0         0.0         0.0         0.0  ...          2.0   \n",
       "19380         0.0         1.0         0.0         0.0  ...          0.0   \n",
       "\n",
       "       x_52DaysAgo  x_53DaysAgo  x_54DaysAgo  x_55DaysAgo  x_56DaysAgo  \\\n",
       "60            11.0          4.0         10.0         18.0          7.0   \n",
       "61            10.0         11.0          4.0         10.0         18.0   \n",
       "62             6.0         10.0         11.0          4.0         10.0   \n",
       "63             5.0          6.0         10.0         11.0          4.0   \n",
       "64            12.0          5.0          6.0         10.0         11.0   \n",
       "...            ...          ...          ...          ...          ...   \n",
       "19376          0.0          0.0          0.0          0.0          0.0   \n",
       "19377          0.0          0.0          0.0          0.0          0.0   \n",
       "19378          0.0          0.0          0.0          0.0          0.0   \n",
       "19379          1.0          0.0          0.0          0.0          0.0   \n",
       "19380          2.0          1.0          0.0          0.0          0.0   \n",
       "\n",
       "       x_57DaysAgo  x_58DaysAgo  x_59DaysAgo  x_60DaysAgo  \n",
       "60             6.0          4.0          6.0          6.0  \n",
       "61             7.0          6.0          4.0          6.0  \n",
       "62            18.0          7.0          6.0          4.0  \n",
       "63            10.0         18.0          7.0          6.0  \n",
       "64             4.0         10.0         18.0          7.0  \n",
       "...            ...          ...          ...          ...  \n",
       "19376          0.0          0.0          1.0          0.0  \n",
       "19377          0.0          0.0          0.0          1.0  \n",
       "19378          0.0          0.0          0.0          0.0  \n",
       "19379          0.0          0.0          0.0          0.0  \n",
       "19380          0.0          0.0          0.0          0.0  \n",
       "\n",
       "[25928 rows x 61 columns]"
      ]
     },
     "execution_count": 5,
     "metadata": {},
     "output_type": "execute_result"
    }
   ],
   "source": [
    "#x_train.iloc[0*1852*14:(0+1)*1852*14,12:]"
   ]
  },
  {
   "cell_type": "code",
   "execution_count": 4,
   "id": "3bbf9b8e-58d4-4f90-982e-acffb599c5b1",
   "metadata": {
    "tags": []
   },
   "outputs": [],
   "source": [
    "\n",
    "params = {\n",
    "                    'boosting_type': 'gbdt',\n",
    "                    'objective': 'tweedie',\n",
    "                    'tweedie_variance_power': 1.1,\n",
    "                    'metric': 'rmse',\n",
    "                    'subsample': 0.5,\n",
    "                    'subsample_freq': 1,\n",
    "                    'learning_rate': 0.03,\n",
    "                    'num_leaves': 2**8-1,\n",
    "                    'min_data_in_leaf': 2**8-1,\n",
    "                    'feature_fraction': 0.5,\n",
    "                    'max_bin': 100,\n",
    "                    #'n_estimators': 3000,\n",
    "                    'boost_from_average': False,\n",
    "                    'verbose': -1\n",
    "                } "
   ]
  },
  {
   "cell_type": "code",
   "execution_count": 5,
   "id": "6e052352-be13-4640-9421-ee76482f32bf",
   "metadata": {},
   "outputs": [
    {
     "name": "stderr",
     "output_type": "stream",
     "text": [
      "C:\\ProgramData\\Anaconda3\\lib\\site-packages\\lightgbm\\basic.py:335: UserWarning: Converting column-vector to 1d array\n",
      "  _log_warning('Converting column-vector to 1d array')\n"
     ]
    }
   ],
   "source": [
    "#### ---- FULLY GLOBAL MODEL ----\n",
    "#lgb_train = lgb.Dataset(x_train.iloc[0*1852*14:(0+1)*1852*14,6:], y_train.iloc[0*1852*14:(0+1)*1852*14])\n",
    "model = lgb.train(params, lgb_train,3000) #14*28 for one hierarchy\n",
    "l = model.predict(x_test)"
   ]
  },
  {
   "cell_type": "code",
   "execution_count": 6,
   "id": "66d143a9-1d15-459b-972e-a8f6354e366c",
   "metadata": {
    "tags": []
   },
   "outputs": [],
   "source": [
    "######################################################\n",
    "'''lgb_train = lgb.Dataset(x_train.iloc[:,6:], y_train)\n",
    "lgb_eval = lgb.Dataset(x_test.iloc[:,6:], y_test_l)'''"
   ]
  },
  {
   "cell_type": "code",
   "execution_count": null,
   "id": "b2c568e4-ed30-452b-8478-b8e16af7e050",
   "metadata": {
    "tags": []
   },
   "outputs": [],
   "source": [
    "'''\n",
    "lgb_train = lgb.Dataset(x_train.iloc[0*1852*14:(0+1)*1852*14,6:], y_train.iloc[0*1852*14:(0+1)*1852*14])\n",
    "model = lgb.train(params, lgb_train,3000) #14*28 for one hierarchy\n",
    "l = model.predict(x_test.iloc[0*392:(0+1)*392,6:])'''"
   ]
  },
  {
   "cell_type": "code",
   "execution_count": 9,
   "id": "d49a8fca-7fe0-41e0-bc44-55c8c3cf4692",
   "metadata": {
    "tags": []
   },
   "outputs": [
    {
     "name": "stderr",
     "output_type": "stream",
     "text": [
      "100%|████████████████████████████████████████████████████████████████████████████████████████████████████████████████████████████████████████████████████████████████████████████████████████| 1437/1437 [3:31:30<00:00,  8.83s/it]\n"
     ]
    }
   ],
   "source": [
    "'''\n",
    "from tqdm import tqdm \n",
    "test_pred = []\n",
    "for i in tqdm(range(1437)):\n",
    "    lgb_train = lgb.Dataset(x_train.iloc[0*1852*14:(0+1)*1852*14,6:], y_train.iloc[0*1852*14:(0+1)*1852*14])\n",
    "    model = lgb.train(params, lgb_train,3000) #14*28 for one hierarchy\n",
    "    l = model.predict(x_test.iloc[i*392:(i+1)*392,6:])\n",
    "    test_pred.append(l)'''"
   ]
  },
  {
   "cell_type": "code",
   "execution_count": 10,
   "id": "ae3e8520-8bdf-4727-aa0f-35e703ad5167",
   "metadata": {
    "tags": []
   },
   "outputs": [],
   "source": [
    "# get future 28 days base forecast\n",
    "#train_pred = model.predict(x_train)\n",
    "#test_pred = model.predict(x_test.iloc[:,6:])"
   ]
  },
  {
   "cell_type": "code",
   "execution_count": 11,
   "id": "369baae8-7139-48ae-a391-fa107153c5dc",
   "metadata": {
    "tags": []
   },
   "outputs": [
    {
     "data": {
      "text/plain": [
       "'\\ny_test = np.array(y_test_l).reshape(int(len(y_test_l)/28),28)\\ntest_pred = test_pred.reshape(int(len(test_pred)/28),28)'"
      ]
     },
     "execution_count": 11,
     "metadata": {},
     "output_type": "execute_result"
    }
   ],
   "source": [
    "'''\n",
    "y_test = np.array(y_test_l).reshape(int(len(y_test_l)/28),28)\n",
    "test_pred = test_pred.reshape(int(len(test_pred)/28),28)'''"
   ]
  },
  {
   "cell_type": "code",
   "execution_count": 6,
   "id": "7b56ca77-6d05-4569-96a8-6c96d512f8ff",
   "metadata": {
    "tags": []
   },
   "outputs": [],
   "source": [
    "# define the function for calculating MASE\n",
    "# the epsilon represets the default value for the situation that the denominator is 0\n",
    "from sklearn.metrics import mean_absolute_error\n",
    "def forecast_mase(truth_1,forecast_1, epsilon):\n",
    "    mase = []\n",
    "    forecast = np.array(forecast_1)\n",
    "    truth = np.array(truth_1)\n",
    "    tru_diff = np.abs(truth[:, 1:] - truth[:, :-1])  # achieve .diff()\n",
    "    mean_diff = np.mean(tru_diff, axis=1)\n",
    "    for i in range(len(forecast)):\n",
    "        mae_ = mean_absolute_error( truth[i, :],forecast[i, :])\n",
    "        mean_diff_i = mean_diff[i] if mean_diff[i] != 0 else epsilon\n",
    "        mase.append(mae_ / mean_diff_i)\n",
    "    return mase"
   ]
  },
  {
   "cell_type": "code",
   "execution_count": 7,
   "id": "e6d375ed-9605-4bab-9781-ad4871642083",
   "metadata": {
    "tags": []
   },
   "outputs": [],
   "source": [
    "#### Summing Matrix\n",
    "l1 = np.ones(10).reshape(1,10)\n",
    "l2 = [[1, 1, 1, 1, 0, 0, 0, 0, 0, 0],\n",
    "     [0, 0, 0, 0, 1, 1, 1, 0, 0, 0],\n",
    "     [0, 0, 0, 0, 0, 0, 0, 1, 1, 1]]\n",
    "l3 = np.eye(10)\n",
    "S_Matrix = np.concatenate((l1, l2, l3), axis=0)"
   ]
  },
  {
   "cell_type": "code",
   "execution_count": 8,
   "id": "16848211-e1f6-4c80-b24c-ee944e47b194",
   "metadata": {
    "tags": []
   },
   "outputs": [],
   "source": [
    "################# TD method:\n",
    "# G matrix for TD, proportions of historical averages\n",
    "def G_Matrix_TD(df ,ts_length, ts_niah, ts_nibl):\n",
    "    from tqdm import tqdm\n",
    "    n = int(len(df)/(ts_length*ts_niah))\n",
    "    G_td = []\n",
    "    df_ = np.array(df).reshape(n,int(len(df)/n))\n",
    "    for i in tqdm(range(n)):\n",
    "        ts = df_[i].reshape(ts_niah,ts_length)\n",
    "        prop = (np.mean(ts[-10:,:],axis = 1)/np.mean(ts[0,:])).reshape(ts_nibl,1)\n",
    "        zero = np.zeros((ts_nibl,ts_niah-1))\n",
    "        g_td = np.concatenate((prop, zero), axis=1)\n",
    "        G_td.append(g_td)\n",
    "    return G_td"
   ]
  },
  {
   "cell_type": "code",
   "execution_count": 9,
   "id": "830a9eea-03ca-4236-97f0-7309b0e6099b",
   "metadata": {
    "tags": []
   },
   "outputs": [
    {
     "name": "stderr",
     "output_type": "stream",
     "text": [
      "100%|███████████████████████████████████████████████████████████████████████████████████████████████████████| 3049/3049 [00:00<00:00, 11160.36it/s]\n"
     ]
    }
   ],
   "source": [
    "# Different G matrix for 3 methods:\n",
    "################# BU method:\n",
    "# G matrix for BU\n",
    "g1 = np.zeros((10,4))#（ bottom_level , except_bottom level）\n",
    "g2 = np.eye(10)# bottom level\n",
    "G_bu = np.concatenate((g1,g2), axis=1)\n",
    "\n",
    "################# TD method:\n",
    "# parameters: bottom level data, top level data, time series length, \n",
    "G_td = G_Matrix_TD(pd.read_pickle('y_train.pkl'), 1852, 14, 10)\n",
    "\n",
    "################# MinT method:\n",
    "I = np.ones(10)\n",
    "kh= 1\n",
    "W = np.diag(S_Matrix@I)\n",
    "G_mint = np.linalg.inv(S_Matrix.T@np.linalg.inv(W)@S_Matrix)@S_Matrix.T@np.linalg.inv(W)"
   ]
  },
  {
   "cell_type": "code",
   "execution_count": 10,
   "id": "0f703358-0df1-4c65-8d84-975e090588be",
   "metadata": {
    "scrolled": true,
    "tags": []
   },
   "outputs": [
    {
     "name": "stderr",
     "output_type": "stream",
     "text": [
      "100%|██████████████████████████████████████████████████████████████████████████████████████████████████████| 3049/3049 [00:00<00:00, 217616.19it/s]\n"
     ]
    }
   ],
   "source": [
    "################## Different SG matrix for 3 methods:\n",
    "SG_bu = np.dot(S_Matrix, G_bu)\n",
    "SG_mint = np.dot(S_Matrix,G_mint)\n",
    "SG_td = []\n",
    "from tqdm import tqdm\n",
    "for i in tqdm(range(len(G_td))):\n",
    "    sg_td = S_Matrix@G_td[i]\n",
    "    SG_td.append(sg_td)"
   ]
  },
  {
   "cell_type": "code",
   "execution_count": 13,
   "id": "2f43d5ac-3488-4afb-a18a-9e2cc0ac59bf",
   "metadata": {},
   "outputs": [],
   "source": [
    "test_pred = np.array(l).reshape(3049,392)"
   ]
  },
  {
   "cell_type": "code",
   "execution_count": 14,
   "id": "72fb4435-fd44-4cf5-b135-16853dfc4801",
   "metadata": {
    "tags": []
   },
   "outputs": [],
   "source": [
    "##### base forecasts:\n",
    "re_base_all = []\n",
    "re_base_216 = []\n",
    "for i in range(len(test_pred)):\n",
    "    pred = test_pred[i].reshape(14,28)\n",
    "    truth = y_test[i].reshape(14,28)\n",
    "    re_base_all.append(forecast_mase(truth, pred, 1))\n",
    "    re_base_216.append(np.mean(re_base_all))"
   ]
  },
  {
   "cell_type": "code",
   "execution_count": 15,
   "id": "c27b2a5d-d928-4be4-8228-800e6e699abb",
   "metadata": {
    "tags": []
   },
   "outputs": [],
   "source": [
    "##### bu forecasts:\n",
    "re_bu_all = []\n",
    "re_bu_216 = []\n",
    "for i in range(len(test_pred)):\n",
    "    pred = test_pred[i].reshape(14,28)\n",
    "    truth = y_test[i].reshape(14,28)\n",
    "    y_coh_frec_bu = np.dot(SG_bu, pred)\n",
    "    re_bu_all.append(forecast_mase(truth, y_coh_frec_bu, 1))\n",
    "    re_bu_216.append(np.mean(re_bu_all))"
   ]
  },
  {
   "cell_type": "code",
   "execution_count": 16,
   "id": "45a3298b-3582-47c6-b430-45b664d3e0b9",
   "metadata": {
    "tags": []
   },
   "outputs": [
    {
     "data": {
      "text/plain": [
       "(3049, 14, 14)"
      ]
     },
     "execution_count": 16,
     "metadata": {},
     "output_type": "execute_result"
    }
   ],
   "source": [
    "np.shape(SG_td)"
   ]
  },
  {
   "cell_type": "code",
   "execution_count": 17,
   "id": "f0a77aa8-cc84-4031-a238-f81202b0da75",
   "metadata": {
    "tags": []
   },
   "outputs": [],
   "source": [
    "##### td forecasts:\n",
    "re_td_all = []\n",
    "re_td_216 = []\n",
    "for i in range(len(test_pred)):\n",
    "    pred = test_pred[i].reshape(14,28)\n",
    "    truth = y_test[i].reshape(14,28)\n",
    "    y_coh_frec_td = np.dot(SG_td[i], pred)\n",
    "    re_td_all.append(forecast_mase(truth,y_coh_frec_td, 1))\n",
    "    re_td_216.append(np.mean(re_td_all))"
   ]
  },
  {
   "cell_type": "code",
   "execution_count": 18,
   "id": "669558e6-cd36-4fcd-8520-1c36c8dc1e3c",
   "metadata": {
    "tags": []
   },
   "outputs": [],
   "source": [
    "##### mint forecasts:\n",
    "re_mint_all = []\n",
    "re_mint_216 = []\n",
    "for i in range(len(test_pred)):\n",
    "    pred = test_pred[i].reshape(14,28)\n",
    "    truth = y_test[i].reshape(14,28)\n",
    "    y_coh_frec_mint = np.dot(SG_mint, pred)\n",
    "    re_mint_all.append(forecast_mase(truth, y_coh_frec_mint, 1))\n",
    "    re_mint_216.append(np.mean(re_mint_all))"
   ]
  },
  {
   "cell_type": "code",
   "execution_count": 21,
   "id": "15587886-f396-4404-a376-21126c2a2536",
   "metadata": {},
   "outputs": [
    {
     "name": "stdout",
     "output_type": "stream",
     "text": [
      "MM lgbm's forecasts: 0.896360744117116\n",
      "MM lgbm with BU's forecasts: 0.9002820436568502\n",
      "MM lgbm with TD's forecasts: 0.9488757981350949\n",
      "MM lgbm with MinT's forecasts: 0.8864698623892706\n"
     ]
    }
   ],
   "source": [
    "print(\"MM lgbm's forecasts:\", np.mean(re_base_216))\n",
    "print(\"MM lgbm with BU's forecasts:\", np.mean(re_bu_216))\n",
    "print(\"MM lgbm with TD's forecasts:\", np.mean(re_td_216))\n",
    "print(\"MM lgbm with MinT's forecasts:\", np.mean(re_mint_216))"
   ]
  },
  {
   "cell_type": "code",
   "execution_count": 20,
   "id": "6cdee674-4867-48b9-980f-2654cfe8e9e9",
   "metadata": {},
   "outputs": [],
   "source": [
    "# np.shape(results) : \n",
    "def LevelMase(results, level_sta,level_gap,):\n",
    "    level_mase = []\n",
    "    if level_sta == 0:\n",
    "        for i in range(len(results)):\n",
    "            level_mase.append(results[i][level_sta])\n",
    "    elif level_sta != 0:\n",
    "        for i in range(len(results)):\n",
    "            level_mase.append(results[i][level_sta:level_sta+level_gap])        \n",
    "    return level_mase"
   ]
  },
  {
   "cell_type": "code",
   "execution_count": 22,
   "id": "5e3d9068-24ca-431f-a8b2-9ee18a2ea84b",
   "metadata": {},
   "outputs": [
    {
     "name": "stdout",
     "output_type": "stream",
     "text": [
      "MM Fg lgbm's base forecasts' L1 MASE: 0.7730777806448101\n",
      "MM Fg lgbm's base forecasts' L2 MASE: 0.8055343178970237\n",
      "MM Fg lgbm's base forecasts' L3 MASE: 0.9061410815009756\n"
     ]
    }
   ],
   "source": [
    "#### Fully global LGBM MASE for each level\n",
    "l1_base_216 = LevelMase(re_base_all,0,0)\n",
    "l2_base_216 = LevelMase(re_base_all,1,3)\n",
    "l3_base_216 = LevelMase(re_base_all,4,10)\n",
    "print(\"MM Fg lgbm's base forecasts' L1 MASE:\", np.mean(l1_base_216))\n",
    "print(\"MM Fg lgbm's base forecasts' L2 MASE:\", np.mean(l2_base_216))\n",
    "print(\"MM Fg lgbm's base forecasts' L3 MASE:\", np.mean(l3_base_216))"
   ]
  },
  {
   "cell_type": "code",
   "execution_count": 23,
   "id": "621e7204-7ad8-4251-950c-db351de08cb1",
   "metadata": {},
   "outputs": [
    {
     "name": "stdout",
     "output_type": "stream",
     "text": [
      "MM Fg lgbm's BU forecasts' L1 MASE: 0.7987485565224343\n",
      "MM Fg lgbm's BU forecasts' L2 MASE: 0.8175351415076964\n",
      "MM Fg lgbm's BU forecasts' L3 MASE: 0.9061410815009756\n"
     ]
    }
   ],
   "source": [
    "l1_bu_216 = LevelMase(re_bu_all,0,0)\n",
    "l2_bu_216 = LevelMase(re_bu_all,1,3)\n",
    "l3_bu_216 = LevelMase(re_bu_all,4,10)\n",
    "print(\"MM Fg lgbm's BU forecasts' L1 MASE:\", np.mean(l1_bu_216))\n",
    "print(\"MM Fg lgbm's BU forecasts' L2 MASE:\", np.mean(l2_bu_216))\n",
    "print(\"MM Fg lgbm's BU forecasts' L3 MASE:\", np.mean(l3_bu_216))"
   ]
  },
  {
   "cell_type": "code",
   "execution_count": 24,
   "id": "c56bb84e-b0fb-4a87-9798-181848e41b46",
   "metadata": {},
   "outputs": [
    {
     "name": "stdout",
     "output_type": "stream",
     "text": [
      "MM Fg lgbm's TD forecasts' L1 MASE: 0.7730777806448101\n",
      "MM Fg lgbm's TD forecasts' L2 MASE: 0.8493071091127092\n",
      "MM Fg lgbm's TD forecasts' L3 MASE: 0.9983723865315189\n"
     ]
    }
   ],
   "source": [
    "l1_td_216 = LevelMase(re_td_all,0,0)\n",
    "l2_td_216 = LevelMase(re_td_all,1,3)\n",
    "l3_td_216 = LevelMase(re_td_all,4,10)\n",
    "print(\"MM Fg lgbm's TD forecasts' L1 MASE:\", np.mean(l1_td_216))\n",
    "print(\"MM Fg lgbm's TD forecasts' L2 MASE:\", np.mean(l2_td_216))\n",
    "print(\"MM Fg lgbm's TD forecasts' L3 MASE:\", np.mean(l3_td_216))"
   ]
  },
  {
   "cell_type": "code",
   "execution_count": 25,
   "id": "b6c424fe-5ae5-4f60-91eb-a97b71556ed7",
   "metadata": {},
   "outputs": [
    {
     "name": "stdout",
     "output_type": "stream",
     "text": [
      "MM Fg lgbm's MinT forecasts' L1 MASE: 0.7729931608895306\n",
      "MM Fg lgbm's MinT forecasts' L2 MASE: 0.805708911100541\n",
      "MM Fg lgbm's MinT forecasts' L3 MASE: 0.8955480704841942\n"
     ]
    }
   ],
   "source": [
    "l1_mint_216 = LevelMase(re_mint_all,0,0)\n",
    "l2_mint_216 = LevelMase(re_mint_all,1,3)\n",
    "l3_mint_216 = LevelMase(re_mint_all,4,10)\n",
    "print(\"MM Fg lgbm's MinT forecasts' L1 MASE:\", np.mean(l1_mint_216))\n",
    "print(\"MM Fg lgbm's MinT forecasts' L2 MASE:\", np.mean(l2_mint_216))\n",
    "print(\"MM Fg lgbm's MinT forecasts' L3 MASE:\", np.mean(l3_mint_216))"
   ]
  },
  {
   "cell_type": "code",
   "execution_count": 27,
   "id": "b503f98d-b12c-4e0f-b16b-2e99d4c429d9",
   "metadata": {},
   "outputs": [
    {
     "data": {
      "text/plain": [
       "3049"
      ]
     },
     "execution_count": 27,
     "metadata": {},
     "output_type": "execute_result"
    }
   ],
   "source": [
    "len(l1_mint_216)"
   ]
  },
  {
   "cell_type": "code",
   "execution_count": null,
   "id": "e93c229b-60a7-425b-a3e1-fb75ee20be2d",
   "metadata": {},
   "outputs": [],
   "source": []
  }
 ],
 "metadata": {
  "kernelspec": {
   "display_name": "Python 3 (ipykernel)",
   "language": "python",
   "name": "python3"
  },
  "language_info": {
   "codemirror_mode": {
    "name": "ipython",
    "version": 3
   },
   "file_extension": ".py",
   "mimetype": "text/x-python",
   "name": "python",
   "nbconvert_exporter": "python",
   "pygments_lexer": "ipython3",
   "version": "3.11.3"
  }
 },
 "nbformat": 4,
 "nbformat_minor": 5
}
