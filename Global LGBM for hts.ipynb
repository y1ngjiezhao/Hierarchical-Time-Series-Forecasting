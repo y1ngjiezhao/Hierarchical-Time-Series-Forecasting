{
 "cells": [
  {
   "cell_type": "code",
   "execution_count": 1,
   "id": "cdf68236-3023-4900-a359-bdc47fab78a2",
   "metadata": {
    "tags": []
   },
   "outputs": [],
   "source": [
    "import pandas as pd\n",
    "import numpy as np\n",
    "from sklearn.multioutput import RegressorChain\n",
    "from sklearn.metrics import mean_squared_error as mse"
   ]
  },
  {
   "cell_type": "code",
   "execution_count": 2,
   "id": "79d57878-d340-4454-826c-0406a3c52e5c",
   "metadata": {
    "tags": []
   },
   "outputs": [],
   "source": [
    "# to import data sets for each level\n",
    "# is in order to get a clear structure of matrix\n",
    "eva_1 = pd.read_pickle('eva_l0.pkl')\n",
    "eva_2 = pd.read_pickle('eva_l1.pkl')\n",
    "eva_3 = pd.read_pickle('eva_l2.pkl')\n",
    "eva_4 = pd.read_pickle('eva_l3.pkl')\n",
    "eva_list = [eva_1,eva_2,eva_3,eva_4]\n",
    "# get the train&test sets\n",
    "x_train = pd.read_pickle('x_train.pkl')\n",
    "x_test = pd.read_pickle('x_test.pkl')\n",
    "y_train = pd.read_pickle('y_train.pkl')\n",
    "y_test = pd.read_pickle('y_test.pkl')"
   ]
  },
  {
   "cell_type": "code",
   "execution_count": 3,
   "id": "2a72a046-2529-41d8-878d-aafcdc8d4873",
   "metadata": {
    "scrolled": true,
    "tags": []
   },
   "outputs": [
    {
     "name": "stdout",
     "output_type": "stream",
     "text": [
      "[LightGBM] [Info] Total Bins 15820\n",
      "[LightGBM] [Info] Number of data points in the train set: 4026248, number of used features: 67\n",
      "[LightGBM] [Info] Start training from score 4.943179\n",
      "[LightGBM] [Info] Total Bins 16075\n",
      "[LightGBM] [Info] Number of data points in the train set: 4026248, number of used features: 68\n",
      "[LightGBM] [Info] Start training from score 4.944538\n",
      "[LightGBM] [Info] Total Bins 16330\n",
      "[LightGBM] [Info] Number of data points in the train set: 4026248, number of used features: 69\n",
      "[LightGBM] [Info] Start training from score 4.945578\n",
      "[LightGBM] [Info] Total Bins 16585\n",
      "[LightGBM] [Info] Number of data points in the train set: 4026248, number of used features: 70\n",
      "[LightGBM] [Info] Start training from score 4.946270\n",
      "[LightGBM] [Info] Total Bins 16840\n",
      "[LightGBM] [Info] Number of data points in the train set: 4026248, number of used features: 71\n",
      "[LightGBM] [Info] Start training from score 4.947360\n",
      "[LightGBM] [Info] Total Bins 17095\n",
      "[LightGBM] [Info] Number of data points in the train set: 4026248, number of used features: 72\n",
      "[LightGBM] [Info] Start training from score 4.949608\n",
      "[LightGBM] [Info] Total Bins 17350\n",
      "[LightGBM] [Info] Number of data points in the train set: 4026248, number of used features: 73\n",
      "[LightGBM] [Info] Start training from score 4.952484\n",
      "[LightGBM] [Info] Total Bins 17605\n",
      "[LightGBM] [Info] Number of data points in the train set: 4026248, number of used features: 74\n",
      "[LightGBM] [Info] Start training from score 4.955205\n",
      "[LightGBM] [Info] Total Bins 17860\n",
      "[LightGBM] [Info] Number of data points in the train set: 4026248, number of used features: 75\n",
      "[LightGBM] [Info] Start training from score 4.957096\n",
      "[LightGBM] [Info] Total Bins 18115\n",
      "[LightGBM] [Info] Number of data points in the train set: 4026248, number of used features: 76\n",
      "[LightGBM] [Info] Start training from score 4.959369\n",
      "[LightGBM] [Info] Total Bins 18370\n",
      "[LightGBM] [Info] Number of data points in the train set: 4026248, number of used features: 77\n",
      "[LightGBM] [Info] Start training from score 4.961036\n",
      "[LightGBM] [Info] Total Bins 18625\n",
      "[LightGBM] [Info] Number of data points in the train set: 4026248, number of used features: 78\n",
      "[LightGBM] [Info] Start training from score 4.962899\n",
      "[LightGBM] [Info] Total Bins 18880\n",
      "[LightGBM] [Info] Number of data points in the train set: 4026248, number of used features: 79\n",
      "[LightGBM] [Info] Start training from score 4.965371\n",
      "[LightGBM] [Info] Total Bins 19135\n",
      "[LightGBM] [Info] Number of data points in the train set: 4026248, number of used features: 80\n",
      "[LightGBM] [Info] Start training from score 4.969021\n",
      "[LightGBM] [Info] Total Bins 19390\n",
      "[LightGBM] [Info] Number of data points in the train set: 4026248, number of used features: 81\n",
      "[LightGBM] [Info] Start training from score 4.971529\n",
      "[LightGBM] [Info] Total Bins 19645\n",
      "[LightGBM] [Info] Number of data points in the train set: 4026248, number of used features: 82\n",
      "[LightGBM] [Info] Start training from score 4.973435\n",
      "[LightGBM] [Info] Total Bins 19900\n",
      "[LightGBM] [Info] Number of data points in the train set: 4026248, number of used features: 83\n",
      "[LightGBM] [Info] Start training from score 4.974934\n",
      "[LightGBM] [Info] Total Bins 20155\n",
      "[LightGBM] [Info] Number of data points in the train set: 4026248, number of used features: 84\n",
      "[LightGBM] [Info] Start training from score 4.976237\n",
      "[LightGBM] [Info] Total Bins 20410\n",
      "[LightGBM] [Info] Number of data points in the train set: 4026248, number of used features: 85\n",
      "[LightGBM] [Info] Start training from score 4.977639\n",
      "[LightGBM] [Info] Total Bins 20665\n",
      "[LightGBM] [Info] Number of data points in the train set: 4026248, number of used features: 86\n",
      "[LightGBM] [Info] Start training from score 4.980413\n",
      "[LightGBM] [Info] Total Bins 20920\n",
      "[LightGBM] [Info] Number of data points in the train set: 4026248, number of used features: 87\n",
      "[LightGBM] [Info] Start training from score 4.983188\n",
      "[LightGBM] [Info] Total Bins 21175\n",
      "[LightGBM] [Info] Number of data points in the train set: 4026248, number of used features: 88\n",
      "[LightGBM] [Info] Start training from score 4.985838\n",
      "[LightGBM] [Info] Total Bins 21430\n",
      "[LightGBM] [Info] Number of data points in the train set: 4026248, number of used features: 89\n",
      "[LightGBM] [Info] Start training from score 4.987453\n",
      "[LightGBM] [Info] Total Bins 21685\n",
      "[LightGBM] [Info] Number of data points in the train set: 4026248, number of used features: 90\n",
      "[LightGBM] [Info] Start training from score 4.988228\n",
      "[LightGBM] [Info] Total Bins 21940\n",
      "[LightGBM] [Info] Number of data points in the train set: 4026248, number of used features: 91\n",
      "[LightGBM] [Info] Start training from score 4.988264\n",
      "[LightGBM] [Info] Total Bins 22195\n",
      "[LightGBM] [Info] Number of data points in the train set: 4026248, number of used features: 92\n",
      "[LightGBM] [Info] Start training from score 4.989283\n",
      "[LightGBM] [Info] Total Bins 22450\n",
      "[LightGBM] [Info] Number of data points in the train set: 4026248, number of used features: 93\n",
      "[LightGBM] [Info] Start training from score 4.991809\n",
      "[LightGBM] [Info] Total Bins 22705\n",
      "[LightGBM] [Info] Number of data points in the train set: 4026248, number of used features: 94\n",
      "[LightGBM] [Info] Start training from score 4.994817\n"
     ]
    },
    {
     "data": {
      "text/html": [
       "<style>#sk-container-id-1 {color: black;}#sk-container-id-1 pre{padding: 0;}#sk-container-id-1 div.sk-toggleable {background-color: white;}#sk-container-id-1 label.sk-toggleable__label {cursor: pointer;display: block;width: 100%;margin-bottom: 0;padding: 0.3em;box-sizing: border-box;text-align: center;}#sk-container-id-1 label.sk-toggleable__label-arrow:before {content: \"▸\";float: left;margin-right: 0.25em;color: #696969;}#sk-container-id-1 label.sk-toggleable__label-arrow:hover:before {color: black;}#sk-container-id-1 div.sk-estimator:hover label.sk-toggleable__label-arrow:before {color: black;}#sk-container-id-1 div.sk-toggleable__content {max-height: 0;max-width: 0;overflow: hidden;text-align: left;background-color: #f0f8ff;}#sk-container-id-1 div.sk-toggleable__content pre {margin: 0.2em;color: black;border-radius: 0.25em;background-color: #f0f8ff;}#sk-container-id-1 input.sk-toggleable__control:checked~div.sk-toggleable__content {max-height: 200px;max-width: 100%;overflow: auto;}#sk-container-id-1 input.sk-toggleable__control:checked~label.sk-toggleable__label-arrow:before {content: \"▾\";}#sk-container-id-1 div.sk-estimator input.sk-toggleable__control:checked~label.sk-toggleable__label {background-color: #d4ebff;}#sk-container-id-1 div.sk-label input.sk-toggleable__control:checked~label.sk-toggleable__label {background-color: #d4ebff;}#sk-container-id-1 input.sk-hidden--visually {border: 0;clip: rect(1px 1px 1px 1px);clip: rect(1px, 1px, 1px, 1px);height: 1px;margin: -1px;overflow: hidden;padding: 0;position: absolute;width: 1px;}#sk-container-id-1 div.sk-estimator {font-family: monospace;background-color: #f0f8ff;border: 1px dotted black;border-radius: 0.25em;box-sizing: border-box;margin-bottom: 0.5em;}#sk-container-id-1 div.sk-estimator:hover {background-color: #d4ebff;}#sk-container-id-1 div.sk-parallel-item::after {content: \"\";width: 100%;border-bottom: 1px solid gray;flex-grow: 1;}#sk-container-id-1 div.sk-label:hover label.sk-toggleable__label {background-color: #d4ebff;}#sk-container-id-1 div.sk-serial::before {content: \"\";position: absolute;border-left: 1px solid gray;box-sizing: border-box;top: 0;bottom: 0;left: 50%;z-index: 0;}#sk-container-id-1 div.sk-serial {display: flex;flex-direction: column;align-items: center;background-color: white;padding-right: 0.2em;padding-left: 0.2em;position: relative;}#sk-container-id-1 div.sk-item {position: relative;z-index: 1;}#sk-container-id-1 div.sk-parallel {display: flex;align-items: stretch;justify-content: center;background-color: white;position: relative;}#sk-container-id-1 div.sk-item::before, #sk-container-id-1 div.sk-parallel-item::before {content: \"\";position: absolute;border-left: 1px solid gray;box-sizing: border-box;top: 0;bottom: 0;left: 50%;z-index: -1;}#sk-container-id-1 div.sk-parallel-item {display: flex;flex-direction: column;z-index: 1;position: relative;background-color: white;}#sk-container-id-1 div.sk-parallel-item:first-child::after {align-self: flex-end;width: 50%;}#sk-container-id-1 div.sk-parallel-item:last-child::after {align-self: flex-start;width: 50%;}#sk-container-id-1 div.sk-parallel-item:only-child::after {width: 0;}#sk-container-id-1 div.sk-dashed-wrapped {border: 1px dashed gray;margin: 0 0.4em 0.5em 0.4em;box-sizing: border-box;padding-bottom: 0.4em;background-color: white;}#sk-container-id-1 div.sk-label label {font-family: monospace;font-weight: bold;display: inline-block;line-height: 1.2em;}#sk-container-id-1 div.sk-label-container {text-align: center;}#sk-container-id-1 div.sk-container {/* jupyter's `normalize.less` sets `[hidden] { display: none; }` but bootstrap.min.css set `[hidden] { display: none !important; }` so we also need the `!important` here to be able to override the default hidden behavior on the sphinx rendered scikit-learn.org. See: https://github.com/scikit-learn/scikit-learn/issues/21755 */display: inline-block !important;position: relative;}#sk-container-id-1 div.sk-text-repr-fallback {display: none;}</style><div id=\"sk-container-id-1\" class=\"sk-top-container\"><div class=\"sk-text-repr-fallback\"><pre>RegressorChain(base_estimator=LGBMRegressor(force_col_wise=True, metric=&#x27;rmse&#x27;,\n",
       "                                            n_jobs=-1, num_leaves=64,\n",
       "                                            objective=&#x27;regression&#x27;,\n",
       "                                            verbosity=1))</pre><b>In a Jupyter environment, please rerun this cell to show the HTML representation or trust the notebook. <br />On GitHub, the HTML representation is unable to render, please try loading this page with nbviewer.org.</b></div><div class=\"sk-container\" hidden><div class=\"sk-item sk-dashed-wrapped\"><div class=\"sk-label-container\"><div class=\"sk-label sk-toggleable\"><input class=\"sk-toggleable__control sk-hidden--visually\" id=\"sk-estimator-id-1\" type=\"checkbox\" ><label for=\"sk-estimator-id-1\" class=\"sk-toggleable__label sk-toggleable__label-arrow\">RegressorChain</label><div class=\"sk-toggleable__content\"><pre>RegressorChain(base_estimator=LGBMRegressor(force_col_wise=True, metric=&#x27;rmse&#x27;,\n",
       "                                            n_jobs=-1, num_leaves=64,\n",
       "                                            objective=&#x27;regression&#x27;,\n",
       "                                            verbosity=1))</pre></div></div></div><div class=\"sk-parallel\"><div class=\"sk-parallel-item\"><div class=\"sk-item\"><div class=\"sk-label-container\"><div class=\"sk-label sk-toggleable\"><input class=\"sk-toggleable__control sk-hidden--visually\" id=\"sk-estimator-id-2\" type=\"checkbox\" ><label for=\"sk-estimator-id-2\" class=\"sk-toggleable__label sk-toggleable__label-arrow\">base_estimator: LGBMRegressor</label><div class=\"sk-toggleable__content\"><pre>LGBMRegressor(force_col_wise=True, metric=&#x27;rmse&#x27;, n_jobs=-1, num_leaves=64,\n",
       "              objective=&#x27;regression&#x27;, verbosity=1)</pre></div></div></div><div class=\"sk-serial\"><div class=\"sk-item\"><div class=\"sk-estimator sk-toggleable\"><input class=\"sk-toggleable__control sk-hidden--visually\" id=\"sk-estimator-id-3\" type=\"checkbox\" ><label for=\"sk-estimator-id-3\" class=\"sk-toggleable__label sk-toggleable__label-arrow\">LGBMRegressor</label><div class=\"sk-toggleable__content\"><pre>LGBMRegressor(force_col_wise=True, metric=&#x27;rmse&#x27;, n_jobs=-1, num_leaves=64,\n",
       "              objective=&#x27;regression&#x27;, verbosity=1)</pre></div></div></div></div></div></div></div></div></div></div>"
      ],
      "text/plain": [
       "RegressorChain(base_estimator=LGBMRegressor(force_col_wise=True, metric='rmse',\n",
       "                                            n_jobs=-1, num_leaves=64,\n",
       "                                            objective='regression',\n",
       "                                            verbosity=1))"
      ]
     },
     "execution_count": 3,
     "metadata": {},
     "output_type": "execute_result"
    }
   ],
   "source": [
    "def get_lgb():\n",
    "    from lightgbm import LGBMRegressor as lgbr\n",
    "    return lgbr(\n",
    "        n_jobs = -1,\n",
    "        boosting_type= 'gbdt',\n",
    "        objective = \"regression\",\n",
    "        metric = \"rmse\",\n",
    "        num_leaves =64,\n",
    "        learning_rate = 0.1, #0.1\n",
    "        # 0.05 - 74~75\n",
    "        #bagging_fraction = 0.7,\n",
    "        #feature_fraction = 0.5,\n",
    "        #bagging_frequency = 5,\n",
    "        #bagging_seed = 42,\n",
    "        verbosity = 1,\n",
    "        #seed= 42,\n",
    "        force_col_wise=True)\n",
    "l1 = RegressorChain(get_lgb())\n",
    "l1.fit(x_train, y_train)"
   ]
  },
  {
   "cell_type": "code",
   "execution_count": 4,
   "id": "ae3e8520-8bdf-4727-aa0f-35e703ad5167",
   "metadata": {
    "tags": []
   },
   "outputs": [],
   "source": [
    "# get future 28 days base forecast\n",
    "train_pred = l1.predict(x_train)\n",
    "test_pred = l1.predict(x_test)"
   ]
  },
  {
   "cell_type": "code",
   "execution_count": 5,
   "id": "7b56ca77-6d05-4569-96a8-6c96d512f8ff",
   "metadata": {
    "tags": []
   },
   "outputs": [],
   "source": [
    "# define the function for calculating MASE\n",
    "# the epsilon represets the default value for the situation that the denominator is 0\n",
    "from sklearn.metrics import mean_absolute_error\n",
    "def forecast_mase(forecast_1, truth_1, epsilon=1):\n",
    "    mase = []\n",
    "    forecast = np.array(forecast_1)\n",
    "    truth = np.array(truth_1)\n",
    "    tru_diff = np.abs(truth[:, 1:] - truth[:, :-1])  # achieve .diff()\n",
    "    mean_diff = np.mean(tru_diff, axis=1)\n",
    "    for i in range(len(forecast)):\n",
    "        mae_ = mean_absolute_error(forecast[i, :], truth[i, :])\n",
    "        mean_diff_i = mean_diff[i] if mean_diff[i] != 0 else epsilon\n",
    "        mase.append(mae_ / mean_diff_i)\n",
    "    return mase"
   ]
  },
  {
   "cell_type": "code",
   "execution_count": 6,
   "id": "74c0e25f-b890-4e5f-a193-a34f8e781530",
   "metadata": {
    "tags": []
   },
   "outputs": [],
   "source": [
    "# construct SUMMING MATRIX for BU, TD, AND MINT \n",
    "# total of 4 levels\n",
    "def SMatrix(level_number, bottom_level_number, eva_list_ts):\n",
    "    l = []\n",
    "    i = 0\n",
    "    while i <= level_number:\n",
    "        if i == 0:  # （1，2160）\n",
    "            # for top level\n",
    "            a = np.ones(bottom_level_number).reshape(1,2160)\n",
    "            l.append(a)\n",
    "            \n",
    "        elif i == 1:  #（3，2160）\n",
    "            # for l2\n",
    "            l.append([])\n",
    "            o = [[1, 1, 1, 1, 0, 0, 0, 0, 0, 0],\n",
    "                 [0, 0, 0, 0, 1, 1, 1, 0, 0, 0],\n",
    "                 [0, 0, 0, 0, 0, 0, 0, 1, 1, 1]]\n",
    "            for x1 in range(len(eva_list_ts[i]['state_id'].unique())):\n",
    "                r = (o[x1] * (bottom_level_number // len(o) + 1))[:bottom_level_number]\n",
    "                l[i].append(r)\n",
    "        elif i == 2:  #（10，2160）\n",
    "            # for l3 store\n",
    "            l.append([])\n",
    "            for x2 in range(len(eva_list_ts[i]['store_id'].unique())):\n",
    "                o = np.zeros(bottom_level_number)\n",
    "                o[x2::9] = 1\n",
    "                l[i].append(o)\n",
    "        elif i == 3:  # （2160，2160）\n",
    "            # for l4\n",
    "            l.append(np.eye(bottom_level_number))\n",
    "        else:\n",
    "            break\n",
    "        i += 1\n",
    "    S = np.concatenate((l[0], l[1], l[2], l[3]), axis=0)\n",
    "    return S"
   ]
  },
  {
   "cell_type": "code",
   "execution_count": 7,
   "id": "6e9ae20a-45ac-4e51-94c0-d9c1705c457a",
   "metadata": {
    "tags": []
   },
   "outputs": [],
   "source": [
    "S_Matrix = SMatrix(4,2160, eva_list)"
   ]
  },
  {
   "cell_type": "code",
   "execution_count": 8,
   "id": "16848211-e1f6-4c80-b24c-ee944e47b194",
   "metadata": {
    "tags": []
   },
   "outputs": [
    {
     "name": "stderr",
     "output_type": "stream",
     "text": [
      "100%|██████████████████████████████████████████████████████████████████████████████████████████████████████████████████████████████████████████████████████████████████████████████████████████| 2160/2160 [00:00<00:00, 4011.04it/s]\n"
     ]
    }
   ],
   "source": [
    "################# BU method:\n",
    "# G matrix for BU\n",
    "g1 = np.zeros((2160,14))#（ bottom_level , except_bottom level）\n",
    "g2 = np.eye(2160)# bottom level\n",
    "G_bu = np.concatenate((g1,g2), axis=1)\n",
    "\n",
    "################# TD method:\n",
    "# G matrix for TD\n",
    "def G_Matrix_TD(bottom_level, top_level, ts_length, col_bo, col_to, ts_amount):\n",
    "    from typing import Optional\n",
    "    from tqdm import tqdm\n",
    "    prop_mean = []\n",
    "    n = int(len(bottom_level[col_bo])/ts_length)\n",
    "    for i in tqdm(range(n)):\n",
    "        prop = []\n",
    "        #prop = np.divide(np.array(bottom_level[col_bo][i*ts_length : (i+1)*ts_length]), np.array(top_level[col_to]))\n",
    "        #, out=np.zeros_like(vector1), where=(vector2 != 0)\n",
    "        with np.errstate(divide='ignore', invalid='ignore'):\n",
    "            prop =  (bottom_level[col_bo].iloc[i*ts_length : (i+1)*ts_length].values/top_level[col_to].values)\n",
    "        prop_mean.append(prop)\n",
    "    prop_mean = np.nan_to_num(prop_mean)\n",
    "    prop_mean = np.mean(prop_mean,axis = 1).reshape(-1,1)\n",
    "    g2 = np.zeros((n, ts_amount-1))\n",
    "    G = np.concatenate((prop_mean, g2), axis=1)\n",
    "    return G\n",
    "\n",
    "################# MinT method:\n",
    "# G matrix for MinT\n",
    "# generate the W estimate for constructing G\n",
    "def W_matrix_G(forecast_1, truth_1):\n",
    "    forecast = np.array(forecast_1)\n",
    "    truth = np.array(truth_1)\n",
    "    residuals_ = []\n",
    "    for i in range(int(len(forecast))):\n",
    "        res = np.mean(np.dot(truth[i,:]-forecast[i,:],truth[i,:]-forecast[i,:]))\n",
    "        residuals_.append(res)\n",
    "    W = np.diag(residuals_)\n",
    "    return W, residuals_\n",
    "\n",
    "# parameters: bottom level data, top level data, time series length, \n",
    "G_td = G_Matrix_TD(eva_list[3], eva_list[0], 1941, 'sales', 'sales', 2174) \n",
    "# based on the book Forecasting:principle&practice chapter11\n",
    "W , residuals =W_matrix_G(test_pred, y_test.values)\n",
    "G_mint = np.linalg.inv(S_Matrix.T@np.linalg.inv(W)@S_Matrix)@S_Matrix.T@np.linalg.inv(W)"
   ]
  },
  {
   "cell_type": "code",
   "execution_count": 9,
   "id": "d3d64db4-5f6b-4bc0-8ab5-0c62e305afb0",
   "metadata": {
    "tags": []
   },
   "outputs": [],
   "source": [
    "SG_bu = np.dot(S_Matrix, G_bu)\n",
    "SG_td = np.dot(S_Matrix, G_td)\n",
    "SG_mint = np.dot(S_Matrix,G_mint)"
   ]
  },
  {
   "cell_type": "code",
   "execution_count": 12,
   "id": "b04cc372-e143-4513-b4b4-28781dbd6ad2",
   "metadata": {
    "tags": []
   },
   "outputs": [],
   "source": [
    "y_base_frec = test_pred\n",
    "y_coh_frec_bu = np.dot(SG_bu, y_base_frec)\n",
    "y_coh_frec_td = np.dot(SG_td, y_base_frec)\n",
    "y_coh_frec_mint = np.dot(SG_mint, y_base_frec)"
   ]
  },
  {
   "cell_type": "code",
   "execution_count": 13,
   "id": "30e0e0a2-e2c8-46b8-ab70-900c1738fd88",
   "metadata": {
    "tags": []
   },
   "outputs": [],
   "source": [
    "# get mase series of base global lgbm(including MASE values for each time series)\n",
    "re_base = forecast_mase(y_base_frec, y_test)\n",
    "re_bu = forecast_mase(y_coh_frec_bu, y_test)\n",
    "re_td = forecast_mase(y_coh_frec_td, y_test)\n",
    "re_mint = forecast_mase(y_coh_frec_mint, y_test)"
   ]
  },
  {
   "cell_type": "code",
   "execution_count": 14,
   "id": "ec70e8b1-aa58-41e1-9114-f79ca5983123",
   "metadata": {
    "tags": []
   },
   "outputs": [
    {
     "name": "stdout",
     "output_type": "stream",
     "text": [
      "lgbm's forecasts: 1.3135465788316951\n",
      "lgbm with BU's forecasts: 1.3161529467197781\n",
      "lgbm with TD's forecasts: 1.0561110957215272\n",
      "lgbm with MinT's forecasts: 1.3159135970614464\n"
     ]
    }
   ],
   "source": [
    "# MASE for the whole model\n",
    "print(\"lgbm's forecasts:\", np.mean(re_base))\n",
    "print(\"lgbm with BU's forecasts:\", np.mean(re_bu))\n",
    "print(\"lgbm with TD's forecasts:\", np.mean(re_td))\n",
    "print(\"lgbm with MinT's forecasts:\", np.mean(re_mint))"
   ]
  }
 ],
 "metadata": {
  "kernelspec": {
   "display_name": "Python 3 (ipykernel)",
   "language": "python",
   "name": "python3"
  },
  "language_info": {
   "codemirror_mode": {
    "name": "ipython",
    "version": 3
   },
   "file_extension": ".py",
   "mimetype": "text/x-python",
   "name": "python",
   "nbconvert_exporter": "python",
   "pygments_lexer": "ipython3",
   "version": "3.11.3"
  }
 },
 "nbformat": 4,
 "nbformat_minor": 5
}
